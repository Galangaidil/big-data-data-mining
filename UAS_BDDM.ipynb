{
  "nbformat": 4,
  "nbformat_minor": 0,
  "metadata": {
    "colab": {
      "name": "UAS BDDM.ipynb",
      "provenance": [],
      "collapsed_sections": [],
      "toc_visible": true,
      "include_colab_link": true
    },
    "kernelspec": {
      "name": "python3",
      "display_name": "Python 3"
    },
    "language_info": {
      "name": "python"
    }
  },
  "cells": [
    {
      "cell_type": "markdown",
      "metadata": {
        "id": "view-in-github",
        "colab_type": "text"
      },
      "source": [
        "<a href=\"https://colab.research.google.com/github/Galangaidil/big-data-data-mining/blob/main/UAS_BDDM.ipynb\" target=\"_parent\"><img src=\"https://colab.research.google.com/assets/colab-badge.svg\" alt=\"Open In Colab\"/></a>"
      ]
    },
    {
      "cell_type": "markdown",
      "source": [
        "# UAS Big Data & Data Mining\n",
        "\n",
        "- Anggota Kelompok :\n",
        "\n",
        "1.   (5190411250) Galang Aidil Akbar\n",
        "2.   (5190411256) Mardha Yuda Kurniawan\n",
        "3.   (5190411292) Felina Nurul Rezpiningsih\n",
        "4.   (5180411335) Aldi Rivananda\n",
        "\n",
        "- Mata Kuliah : Big Data & Data Mining\n",
        "- Kelas : D\n",
        "\n",
        "---"
      ],
      "metadata": {
        "id": "RNuDGYuuMxyA"
      }
    },
    {
      "cell_type": "markdown",
      "source": [
        "## A. Dataset\n",
        "\n",
        "Dataset yang digunakan yaitu Airline Passenger Satisfaction. Dataset tersebut telah di upload pada GitHub yang diambil yaitu link versi raw dari dataset. Tujuannya agar tidak melakukan upload file ke Google Collab, karena file yang diupload ke Google Collab akan di hapus setelah runtime dimatikan.\n",
        "\n",
        "Berikut adalah link dataset train.csv melalui link Github :"
      ],
      "metadata": {
        "id": "wbFkVD7JzGMN"
      }
    },
    {
      "cell_type": "code",
      "source": [
        "link = \"https://raw.githubusercontent.com/Galangaidil/big-data-data-mining/main/train.csv\""
      ],
      "metadata": {
        "id": "JxZyWfh33liP"
      },
      "execution_count": null,
      "outputs": []
    },
    {
      "cell_type": "markdown",
      "source": [
        "## B. Installasi Pyspark"
      ],
      "metadata": {
        "id": "sz8ne3945VGw"
      }
    },
    {
      "cell_type": "code",
      "source": [
        "!pip install pyspark"
      ],
      "metadata": {
        "colab": {
          "base_uri": "https://localhost:8080/"
        },
        "id": "ODNNp-b55Yg-",
        "outputId": "04d2b709-ac7b-4387-88c8-a79627587307"
      },
      "execution_count": null,
      "outputs": [
        {
          "output_type": "stream",
          "name": "stdout",
          "text": [
            "Looking in indexes: https://pypi.org/simple, https://us-python.pkg.dev/colab-wheels/public/simple/\n",
            "Requirement already satisfied: pyspark in /usr/local/lib/python3.7/dist-packages (3.3.0)\n",
            "Requirement already satisfied: py4j==0.10.9.5 in /usr/local/lib/python3.7/dist-packages (from pyspark) (0.10.9.5)\n"
          ]
        }
      ]
    },
    {
      "cell_type": "markdown",
      "source": [
        "# PENYELESAIAN SOAL"
      ],
      "metadata": {
        "id": "6Ds2kG9Xnvt_"
      }
    },
    {
      "cell_type": "markdown",
      "source": [
        "---\n",
        "# 1.  Melakukan exploratory data analysis terhadap dataset\n",
        "---"
      ],
      "metadata": {
        "id": "FwrmFxdZoL1K"
      }
    },
    {
      "cell_type": "markdown",
      "source": [
        "## C. Pembuatan DataFrame\n",
        "\n",
        "Karena PySpark tidak dapat membaca file .csv melalui internet, maka solusinya adalah dengan cara membuat DataFrame menggunakan pandas, kemudian dimasukkan kedalam PySpark DataFrame."
      ],
      "metadata": {
        "id": "0Mw4egO55fVw"
      }
    },
    {
      "cell_type": "code",
      "source": [
        "import pyspark.pandas as ps\n",
        "import pandas as pd\n",
        "\n",
        "pandas_df = pd.read_csv(link)\n",
        "\n",
        "df = ps.from_pandas(pandas_df)\n",
        "\n",
        "df.head(5)"
      ],
      "metadata": {
        "id": "PFh9KU-u5nMs",
        "colab": {
          "base_uri": "https://localhost:8080/",
          "height": 365
        },
        "outputId": "dd7939e4-0b56-4ba4-bb32-b3ddd8da0902"
      },
      "execution_count": null,
      "outputs": [
        {
          "output_type": "execute_result",
          "data": {
            "text/plain": [
              "   Unnamed: 0      id  Gender      Customer Type  Age   Type of Travel     Class  Flight Distance  Inflight wifi service  Departure/Arrival time convenient  Ease of Online booking  Gate location  Food and drink  Online boarding  Seat comfort  Inflight entertainment  On-board service  Leg room service  Baggage handling  Checkin service  Inflight service  Cleanliness  Departure Delay in Minutes  Arrival Delay in Minutes             satisfaction\n",
              "0           0   70172    Male     Loyal Customer   13  Personal Travel  Eco Plus              460                      3                                  4                       3              1               5                3             5                       5                 4                 3                 4                4                 5            5                          25                      18.0  neutral or dissatisfied\n",
              "1           1    5047    Male  disloyal Customer   25  Business travel  Business              235                      3                                  2                       3              3               1                3             1                       1                 1                 5                 3                1                 4            1                           1                       6.0  neutral or dissatisfied\n",
              "2           2  110028  Female     Loyal Customer   26  Business travel  Business             1142                      2                                  2                       2              2               5                5             5                       5                 4                 3                 4                4                 4            5                           0                       0.0                satisfied\n",
              "3           3   24026  Female     Loyal Customer   25  Business travel  Business              562                      2                                  5                       5              5               2                2             2                       2                 2                 5                 3                1                 4            2                          11                       9.0  neutral or dissatisfied\n",
              "4           4  119299    Male     Loyal Customer   61  Business travel  Business              214                      3                                  3                       3              3               4                5             5                       3                 3                 4                 4                3                 3            3                           0                       0.0                satisfied"
            ],
            "text/html": [
              "<div>\n",
              "<style scoped>\n",
              "    .dataframe tbody tr th:only-of-type {\n",
              "        vertical-align: middle;\n",
              "    }\n",
              "\n",
              "    .dataframe tbody tr th {\n",
              "        vertical-align: top;\n",
              "    }\n",
              "\n",
              "    .dataframe thead th {\n",
              "        text-align: right;\n",
              "    }\n",
              "</style>\n",
              "<table border=\"1\" class=\"dataframe\">\n",
              "  <thead>\n",
              "    <tr style=\"text-align: right;\">\n",
              "      <th></th>\n",
              "      <th>Unnamed: 0</th>\n",
              "      <th>id</th>\n",
              "      <th>Gender</th>\n",
              "      <th>Customer Type</th>\n",
              "      <th>Age</th>\n",
              "      <th>Type of Travel</th>\n",
              "      <th>Class</th>\n",
              "      <th>Flight Distance</th>\n",
              "      <th>Inflight wifi service</th>\n",
              "      <th>Departure/Arrival time convenient</th>\n",
              "      <th>Ease of Online booking</th>\n",
              "      <th>Gate location</th>\n",
              "      <th>Food and drink</th>\n",
              "      <th>Online boarding</th>\n",
              "      <th>Seat comfort</th>\n",
              "      <th>Inflight entertainment</th>\n",
              "      <th>On-board service</th>\n",
              "      <th>Leg room service</th>\n",
              "      <th>Baggage handling</th>\n",
              "      <th>Checkin service</th>\n",
              "      <th>Inflight service</th>\n",
              "      <th>Cleanliness</th>\n",
              "      <th>Departure Delay in Minutes</th>\n",
              "      <th>Arrival Delay in Minutes</th>\n",
              "      <th>satisfaction</th>\n",
              "    </tr>\n",
              "  </thead>\n",
              "  <tbody>\n",
              "    <tr>\n",
              "      <th>0</th>\n",
              "      <td>0</td>\n",
              "      <td>70172</td>\n",
              "      <td>Male</td>\n",
              "      <td>Loyal Customer</td>\n",
              "      <td>13</td>\n",
              "      <td>Personal Travel</td>\n",
              "      <td>Eco Plus</td>\n",
              "      <td>460</td>\n",
              "      <td>3</td>\n",
              "      <td>4</td>\n",
              "      <td>3</td>\n",
              "      <td>1</td>\n",
              "      <td>5</td>\n",
              "      <td>3</td>\n",
              "      <td>5</td>\n",
              "      <td>5</td>\n",
              "      <td>4</td>\n",
              "      <td>3</td>\n",
              "      <td>4</td>\n",
              "      <td>4</td>\n",
              "      <td>5</td>\n",
              "      <td>5</td>\n",
              "      <td>25</td>\n",
              "      <td>18.0</td>\n",
              "      <td>neutral or dissatisfied</td>\n",
              "    </tr>\n",
              "    <tr>\n",
              "      <th>1</th>\n",
              "      <td>1</td>\n",
              "      <td>5047</td>\n",
              "      <td>Male</td>\n",
              "      <td>disloyal Customer</td>\n",
              "      <td>25</td>\n",
              "      <td>Business travel</td>\n",
              "      <td>Business</td>\n",
              "      <td>235</td>\n",
              "      <td>3</td>\n",
              "      <td>2</td>\n",
              "      <td>3</td>\n",
              "      <td>3</td>\n",
              "      <td>1</td>\n",
              "      <td>3</td>\n",
              "      <td>1</td>\n",
              "      <td>1</td>\n",
              "      <td>1</td>\n",
              "      <td>5</td>\n",
              "      <td>3</td>\n",
              "      <td>1</td>\n",
              "      <td>4</td>\n",
              "      <td>1</td>\n",
              "      <td>1</td>\n",
              "      <td>6.0</td>\n",
              "      <td>neutral or dissatisfied</td>\n",
              "    </tr>\n",
              "    <tr>\n",
              "      <th>2</th>\n",
              "      <td>2</td>\n",
              "      <td>110028</td>\n",
              "      <td>Female</td>\n",
              "      <td>Loyal Customer</td>\n",
              "      <td>26</td>\n",
              "      <td>Business travel</td>\n",
              "      <td>Business</td>\n",
              "      <td>1142</td>\n",
              "      <td>2</td>\n",
              "      <td>2</td>\n",
              "      <td>2</td>\n",
              "      <td>2</td>\n",
              "      <td>5</td>\n",
              "      <td>5</td>\n",
              "      <td>5</td>\n",
              "      <td>5</td>\n",
              "      <td>4</td>\n",
              "      <td>3</td>\n",
              "      <td>4</td>\n",
              "      <td>4</td>\n",
              "      <td>4</td>\n",
              "      <td>5</td>\n",
              "      <td>0</td>\n",
              "      <td>0.0</td>\n",
              "      <td>satisfied</td>\n",
              "    </tr>\n",
              "    <tr>\n",
              "      <th>3</th>\n",
              "      <td>3</td>\n",
              "      <td>24026</td>\n",
              "      <td>Female</td>\n",
              "      <td>Loyal Customer</td>\n",
              "      <td>25</td>\n",
              "      <td>Business travel</td>\n",
              "      <td>Business</td>\n",
              "      <td>562</td>\n",
              "      <td>2</td>\n",
              "      <td>5</td>\n",
              "      <td>5</td>\n",
              "      <td>5</td>\n",
              "      <td>2</td>\n",
              "      <td>2</td>\n",
              "      <td>2</td>\n",
              "      <td>2</td>\n",
              "      <td>2</td>\n",
              "      <td>5</td>\n",
              "      <td>3</td>\n",
              "      <td>1</td>\n",
              "      <td>4</td>\n",
              "      <td>2</td>\n",
              "      <td>11</td>\n",
              "      <td>9.0</td>\n",
              "      <td>neutral or dissatisfied</td>\n",
              "    </tr>\n",
              "    <tr>\n",
              "      <th>4</th>\n",
              "      <td>4</td>\n",
              "      <td>119299</td>\n",
              "      <td>Male</td>\n",
              "      <td>Loyal Customer</td>\n",
              "      <td>61</td>\n",
              "      <td>Business travel</td>\n",
              "      <td>Business</td>\n",
              "      <td>214</td>\n",
              "      <td>3</td>\n",
              "      <td>3</td>\n",
              "      <td>3</td>\n",
              "      <td>3</td>\n",
              "      <td>4</td>\n",
              "      <td>5</td>\n",
              "      <td>5</td>\n",
              "      <td>3</td>\n",
              "      <td>3</td>\n",
              "      <td>4</td>\n",
              "      <td>4</td>\n",
              "      <td>3</td>\n",
              "      <td>3</td>\n",
              "      <td>3</td>\n",
              "      <td>0</td>\n",
              "      <td>0.0</td>\n",
              "      <td>satisfied</td>\n",
              "    </tr>\n",
              "  </tbody>\n",
              "</table>\n",
              "</div>"
            ]
          },
          "metadata": {},
          "execution_count": 136
        }
      ]
    },
    {
      "cell_type": "markdown",
      "source": [
        "## D. Overview DataFrame"
      ],
      "metadata": {
        "id": "2Rhv1yLaIEq8"
      }
    },
    {
      "cell_type": "markdown",
      "source": [
        "### D.1 Overview DataFrame\n",
        "\n",
        "Tujuan melakukan Over View DataFrame yaitu untuk mengetahui jumlah baris dan kolom pada DataFrame"
      ],
      "metadata": {
        "id": "97SKyM21Ur-J"
      }
    },
    {
      "cell_type": "code",
      "source": [
        "rows = len(df)\n",
        "columns = df.columns\n",
        "\n",
        "print(f'Jumlah baris: {rows}')\n",
        "print(f'Jumlah kolom: {len(columns)}')"
      ],
      "metadata": {
        "colab": {
          "base_uri": "https://localhost:8080/"
        },
        "id": "Zh3dIEP5UgxN",
        "outputId": "c9855a38-0df5-4748-e994-24455aa74d68"
      },
      "execution_count": null,
      "outputs": [
        {
          "output_type": "stream",
          "name": "stdout",
          "text": [
            "Jumlah baris: 103904\n",
            "Jumlah kolom: 25\n"
          ]
        }
      ]
    },
    {
      "cell_type": "markdown",
      "source": [
        "Dari output tersebut maka dapat diketahui bahwa DataFrame tersebut memiliki 103904 baris dan 25 kolom.\n",
        "\n"
      ],
      "metadata": {
        "id": "JjmQfkGoa5of"
      }
    },
    {
      "cell_type": "markdown",
      "source": [
        "### D.2 Check data yang kosong\n",
        "\n",
        "Melakukan pengecekan data kosong pada DataFrame"
      ],
      "metadata": {
        "id": "xs1TpaowbiVE"
      }
    },
    {
      "cell_type": "code",
      "source": [
        "df.count()"
      ],
      "metadata": {
        "colab": {
          "base_uri": "https://localhost:8080/"
        },
        "id": "8feYgMLKMtYU",
        "outputId": "4b821f6b-d7a7-430d-9a4c-31df9937f882"
      },
      "execution_count": null,
      "outputs": [
        {
          "output_type": "execute_result",
          "data": {
            "text/plain": [
              "Unnamed: 0                           103904\n",
              "id                                   103904\n",
              "Gender                               103904\n",
              "Customer Type                        103904\n",
              "Age                                  103904\n",
              "Type of Travel                       103904\n",
              "Class                                103904\n",
              "Flight Distance                      103904\n",
              "Inflight wifi service                103904\n",
              "Departure/Arrival time convenient    103904\n",
              "Ease of Online booking               103904\n",
              "Gate location                        103904\n",
              "Food and drink                       103904\n",
              "Online boarding                      103904\n",
              "Seat comfort                         103904\n",
              "Inflight entertainment               103904\n",
              "On-board service                     103904\n",
              "Leg room service                     103904\n",
              "Baggage handling                     103904\n",
              "Checkin service                      103904\n",
              "Inflight service                     103904\n",
              "Cleanliness                          103904\n",
              "Departure Delay in Minutes           103904\n",
              "Arrival Delay in Minutes             103594\n",
              "satisfaction                         103904\n",
              "dtype: int64"
            ]
          },
          "metadata": {},
          "execution_count": 138
        }
      ]
    },
    {
      "cell_type": "markdown",
      "source": [
        "Berdasarkan dari pengecekan null values menggunakan count(), dapat diketahui bahwa kolom Arrival Delay in Minutes terdapat nilai null. sehingga perlu dilakukan penanganan missing value.\n",
        "\n"
      ],
      "metadata": {
        "id": "qtbY0yjiffd5"
      }
    },
    {
      "cell_type": "markdown",
      "source": [
        "### D.3 Penanganan Missing Value\n",
        "\n",
        "Agar tidak menemukan data yang bernilai kosong maka dilakukan penanganan missing value pada dataframe. Jenis penanganan missing value dengan menggunakan metode imputasi dengan nilai rata-rata (mean imputation)"
      ],
      "metadata": {
        "id": "g7ZjAkXl6jmY"
      }
    },
    {
      "cell_type": "code",
      "source": [
        "df['Arrival Delay in Minutes']=df['Arrival Delay in Minutes'].fillna(df['Arrival Delay in Minutes'].mean())"
      ],
      "metadata": {
        "id": "Dnflo8103zXF"
      },
      "execution_count": null,
      "outputs": []
    },
    {
      "cell_type": "code",
      "source": [
        "df.count()"
      ],
      "metadata": {
        "colab": {
          "base_uri": "https://localhost:8080/"
        },
        "id": "rkTzukvo35Re",
        "outputId": "e73d1dfa-3e8f-4618-e73f-e73b3e3c635e"
      },
      "execution_count": null,
      "outputs": [
        {
          "output_type": "execute_result",
          "data": {
            "text/plain": [
              "Unnamed: 0                           103904\n",
              "id                                   103904\n",
              "Gender                               103904\n",
              "Customer Type                        103904\n",
              "Age                                  103904\n",
              "Type of Travel                       103904\n",
              "Class                                103904\n",
              "Flight Distance                      103904\n",
              "Inflight wifi service                103904\n",
              "Departure/Arrival time convenient    103904\n",
              "Ease of Online booking               103904\n",
              "Gate location                        103904\n",
              "Food and drink                       103904\n",
              "Online boarding                      103904\n",
              "Seat comfort                         103904\n",
              "Inflight entertainment               103904\n",
              "On-board service                     103904\n",
              "Leg room service                     103904\n",
              "Baggage handling                     103904\n",
              "Checkin service                      103904\n",
              "Inflight service                     103904\n",
              "Cleanliness                          103904\n",
              "Departure Delay in Minutes           103904\n",
              "Arrival Delay in Minutes             103904\n",
              "satisfaction                         103904\n",
              "dtype: int64"
            ]
          },
          "metadata": {},
          "execution_count": 140
        }
      ]
    },
    {
      "cell_type": "markdown",
      "source": [
        "Dari DataFrame diatas diketahui bahwa sudah tidak ada data yang kosong. Nilai pada kolom Arrival Delay in Minutes telah terisi dengan nilai rata-rata. Sehingga DataFrame tersebut dapat dilakukan eksekusi."
      ],
      "metadata": {
        "id": "nn7F2aSC6syZ"
      }
    },
    {
      "cell_type": "markdown",
      "source": [
        "### D.4 Melihat Ringkasan DataFrame\n"
      ],
      "metadata": {
        "id": "O2jV7uNBh5TP"
      }
    },
    {
      "cell_type": "markdown",
      "source": [
        "Pada proses analisis deskriptif ini melakukan pembagian data numerik dan data kategorik."
      ],
      "metadata": {
        "id": "CJcARjqM-LoY"
      }
    },
    {
      "cell_type": "markdown",
      "source": [
        "* Data Numerik\n",
        "\n"
      ],
      "metadata": {
        "id": "aygctCYm-VFc"
      }
    },
    {
      "cell_type": "code",
      "source": [
        "df.describe()"
      ],
      "metadata": {
        "colab": {
          "base_uri": "https://localhost:8080/",
          "height": 355
        },
        "id": "U-ySqoqk2mii",
        "outputId": "84983fb9-e002-4894-88f1-ab1862f6c6f7"
      },
      "execution_count": null,
      "outputs": [
        {
          "output_type": "execute_result",
          "data": {
            "text/plain": [
              "          Unnamed: 0             id            Age  Flight Distance  Inflight wifi service  Departure/Arrival time convenient  Ease of Online booking  Gate location  Food and drink  Online boarding   Seat comfort  Inflight entertainment  On-board service  Leg room service  Baggage handling  Checkin service  Inflight service    Cleanliness  Departure Delay in Minutes  Arrival Delay in Minutes\n",
              "count  103904.000000  103904.000000  103904.000000    103904.000000          103904.000000                      103904.000000           103904.000000  103904.000000   103904.000000    103904.000000  103904.000000           103904.000000     103904.000000     103904.000000     103904.000000    103904.000000     103904.000000  103904.000000               103904.000000             103904.000000\n",
              "mean    51951.500000   64924.210502      39.379706      1189.448375               2.729683                           3.060296                2.756901       2.976883        3.202129         3.250375       3.439396                3.358158          3.382363          3.351055          3.631833         3.304290          3.640428       3.286351                   14.815618                 15.178678\n",
              "std     29994.645522   37463.812252      15.114964       997.147281               1.327829                           1.525075                1.398929       1.277621        1.329533         1.349509       1.319088                1.332991          1.288354          1.315605          1.180903         1.265396          1.175663       1.312273                   38.230901                 38.640909\n",
              "min         0.000000       1.000000       7.000000        31.000000               0.000000                           0.000000                0.000000       0.000000        0.000000         0.000000       0.000000                0.000000          0.000000          0.000000          1.000000         0.000000          0.000000       0.000000                    0.000000                  0.000000\n",
              "25%     25965.000000   32531.000000      27.000000       414.000000               2.000000                           2.000000                2.000000       2.000000        2.000000         2.000000       2.000000                2.000000          2.000000          2.000000          3.000000         3.000000          3.000000       2.000000                    0.000000                  0.000000\n",
              "50%     51943.000000   64853.000000      40.000000       843.000000               3.000000                           3.000000                3.000000       3.000000        3.000000         3.000000       4.000000                4.000000          4.000000          4.000000          4.000000         3.000000          4.000000       3.000000                    0.000000                  0.000000\n",
              "75%     77925.000000   97356.000000      51.000000      1742.000000               4.000000                           4.000000                4.000000       4.000000        4.000000         4.000000       5.000000                4.000000          4.000000          4.000000          5.000000         4.000000          5.000000       4.000000                   12.000000                 13.000000\n",
              "max    103903.000000  129880.000000      85.000000      4983.000000               5.000000                           5.000000                5.000000       5.000000        5.000000         5.000000       5.000000                5.000000          5.000000          5.000000          5.000000         5.000000          5.000000       5.000000                 1592.000000               1584.000000"
            ],
            "text/html": [
              "<div>\n",
              "<style scoped>\n",
              "    .dataframe tbody tr th:only-of-type {\n",
              "        vertical-align: middle;\n",
              "    }\n",
              "\n",
              "    .dataframe tbody tr th {\n",
              "        vertical-align: top;\n",
              "    }\n",
              "\n",
              "    .dataframe thead th {\n",
              "        text-align: right;\n",
              "    }\n",
              "</style>\n",
              "<table border=\"1\" class=\"dataframe\">\n",
              "  <thead>\n",
              "    <tr style=\"text-align: right;\">\n",
              "      <th></th>\n",
              "      <th>Unnamed: 0</th>\n",
              "      <th>id</th>\n",
              "      <th>Age</th>\n",
              "      <th>Flight Distance</th>\n",
              "      <th>Inflight wifi service</th>\n",
              "      <th>Departure/Arrival time convenient</th>\n",
              "      <th>Ease of Online booking</th>\n",
              "      <th>Gate location</th>\n",
              "      <th>Food and drink</th>\n",
              "      <th>Online boarding</th>\n",
              "      <th>Seat comfort</th>\n",
              "      <th>Inflight entertainment</th>\n",
              "      <th>On-board service</th>\n",
              "      <th>Leg room service</th>\n",
              "      <th>Baggage handling</th>\n",
              "      <th>Checkin service</th>\n",
              "      <th>Inflight service</th>\n",
              "      <th>Cleanliness</th>\n",
              "      <th>Departure Delay in Minutes</th>\n",
              "      <th>Arrival Delay in Minutes</th>\n",
              "    </tr>\n",
              "  </thead>\n",
              "  <tbody>\n",
              "    <tr>\n",
              "      <th>count</th>\n",
              "      <td>103904.000000</td>\n",
              "      <td>103904.000000</td>\n",
              "      <td>103904.000000</td>\n",
              "      <td>103904.000000</td>\n",
              "      <td>103904.000000</td>\n",
              "      <td>103904.000000</td>\n",
              "      <td>103904.000000</td>\n",
              "      <td>103904.000000</td>\n",
              "      <td>103904.000000</td>\n",
              "      <td>103904.000000</td>\n",
              "      <td>103904.000000</td>\n",
              "      <td>103904.000000</td>\n",
              "      <td>103904.000000</td>\n",
              "      <td>103904.000000</td>\n",
              "      <td>103904.000000</td>\n",
              "      <td>103904.000000</td>\n",
              "      <td>103904.000000</td>\n",
              "      <td>103904.000000</td>\n",
              "      <td>103904.000000</td>\n",
              "      <td>103904.000000</td>\n",
              "    </tr>\n",
              "    <tr>\n",
              "      <th>mean</th>\n",
              "      <td>51951.500000</td>\n",
              "      <td>64924.210502</td>\n",
              "      <td>39.379706</td>\n",
              "      <td>1189.448375</td>\n",
              "      <td>2.729683</td>\n",
              "      <td>3.060296</td>\n",
              "      <td>2.756901</td>\n",
              "      <td>2.976883</td>\n",
              "      <td>3.202129</td>\n",
              "      <td>3.250375</td>\n",
              "      <td>3.439396</td>\n",
              "      <td>3.358158</td>\n",
              "      <td>3.382363</td>\n",
              "      <td>3.351055</td>\n",
              "      <td>3.631833</td>\n",
              "      <td>3.304290</td>\n",
              "      <td>3.640428</td>\n",
              "      <td>3.286351</td>\n",
              "      <td>14.815618</td>\n",
              "      <td>15.178678</td>\n",
              "    </tr>\n",
              "    <tr>\n",
              "      <th>std</th>\n",
              "      <td>29994.645522</td>\n",
              "      <td>37463.812252</td>\n",
              "      <td>15.114964</td>\n",
              "      <td>997.147281</td>\n",
              "      <td>1.327829</td>\n",
              "      <td>1.525075</td>\n",
              "      <td>1.398929</td>\n",
              "      <td>1.277621</td>\n",
              "      <td>1.329533</td>\n",
              "      <td>1.349509</td>\n",
              "      <td>1.319088</td>\n",
              "      <td>1.332991</td>\n",
              "      <td>1.288354</td>\n",
              "      <td>1.315605</td>\n",
              "      <td>1.180903</td>\n",
              "      <td>1.265396</td>\n",
              "      <td>1.175663</td>\n",
              "      <td>1.312273</td>\n",
              "      <td>38.230901</td>\n",
              "      <td>38.640909</td>\n",
              "    </tr>\n",
              "    <tr>\n",
              "      <th>min</th>\n",
              "      <td>0.000000</td>\n",
              "      <td>1.000000</td>\n",
              "      <td>7.000000</td>\n",
              "      <td>31.000000</td>\n",
              "      <td>0.000000</td>\n",
              "      <td>0.000000</td>\n",
              "      <td>0.000000</td>\n",
              "      <td>0.000000</td>\n",
              "      <td>0.000000</td>\n",
              "      <td>0.000000</td>\n",
              "      <td>0.000000</td>\n",
              "      <td>0.000000</td>\n",
              "      <td>0.000000</td>\n",
              "      <td>0.000000</td>\n",
              "      <td>1.000000</td>\n",
              "      <td>0.000000</td>\n",
              "      <td>0.000000</td>\n",
              "      <td>0.000000</td>\n",
              "      <td>0.000000</td>\n",
              "      <td>0.000000</td>\n",
              "    </tr>\n",
              "    <tr>\n",
              "      <th>25%</th>\n",
              "      <td>25965.000000</td>\n",
              "      <td>32531.000000</td>\n",
              "      <td>27.000000</td>\n",
              "      <td>414.000000</td>\n",
              "      <td>2.000000</td>\n",
              "      <td>2.000000</td>\n",
              "      <td>2.000000</td>\n",
              "      <td>2.000000</td>\n",
              "      <td>2.000000</td>\n",
              "      <td>2.000000</td>\n",
              "      <td>2.000000</td>\n",
              "      <td>2.000000</td>\n",
              "      <td>2.000000</td>\n",
              "      <td>2.000000</td>\n",
              "      <td>3.000000</td>\n",
              "      <td>3.000000</td>\n",
              "      <td>3.000000</td>\n",
              "      <td>2.000000</td>\n",
              "      <td>0.000000</td>\n",
              "      <td>0.000000</td>\n",
              "    </tr>\n",
              "    <tr>\n",
              "      <th>50%</th>\n",
              "      <td>51943.000000</td>\n",
              "      <td>64853.000000</td>\n",
              "      <td>40.000000</td>\n",
              "      <td>843.000000</td>\n",
              "      <td>3.000000</td>\n",
              "      <td>3.000000</td>\n",
              "      <td>3.000000</td>\n",
              "      <td>3.000000</td>\n",
              "      <td>3.000000</td>\n",
              "      <td>3.000000</td>\n",
              "      <td>4.000000</td>\n",
              "      <td>4.000000</td>\n",
              "      <td>4.000000</td>\n",
              "      <td>4.000000</td>\n",
              "      <td>4.000000</td>\n",
              "      <td>3.000000</td>\n",
              "      <td>4.000000</td>\n",
              "      <td>3.000000</td>\n",
              "      <td>0.000000</td>\n",
              "      <td>0.000000</td>\n",
              "    </tr>\n",
              "    <tr>\n",
              "      <th>75%</th>\n",
              "      <td>77925.000000</td>\n",
              "      <td>97356.000000</td>\n",
              "      <td>51.000000</td>\n",
              "      <td>1742.000000</td>\n",
              "      <td>4.000000</td>\n",
              "      <td>4.000000</td>\n",
              "      <td>4.000000</td>\n",
              "      <td>4.000000</td>\n",
              "      <td>4.000000</td>\n",
              "      <td>4.000000</td>\n",
              "      <td>5.000000</td>\n",
              "      <td>4.000000</td>\n",
              "      <td>4.000000</td>\n",
              "      <td>4.000000</td>\n",
              "      <td>5.000000</td>\n",
              "      <td>4.000000</td>\n",
              "      <td>5.000000</td>\n",
              "      <td>4.000000</td>\n",
              "      <td>12.000000</td>\n",
              "      <td>13.000000</td>\n",
              "    </tr>\n",
              "    <tr>\n",
              "      <th>max</th>\n",
              "      <td>103903.000000</td>\n",
              "      <td>129880.000000</td>\n",
              "      <td>85.000000</td>\n",
              "      <td>4983.000000</td>\n",
              "      <td>5.000000</td>\n",
              "      <td>5.000000</td>\n",
              "      <td>5.000000</td>\n",
              "      <td>5.000000</td>\n",
              "      <td>5.000000</td>\n",
              "      <td>5.000000</td>\n",
              "      <td>5.000000</td>\n",
              "      <td>5.000000</td>\n",
              "      <td>5.000000</td>\n",
              "      <td>5.000000</td>\n",
              "      <td>5.000000</td>\n",
              "      <td>5.000000</td>\n",
              "      <td>5.000000</td>\n",
              "      <td>5.000000</td>\n",
              "      <td>1592.000000</td>\n",
              "      <td>1584.000000</td>\n",
              "    </tr>\n",
              "  </tbody>\n",
              "</table>\n",
              "</div>"
            ]
          },
          "metadata": {},
          "execution_count": 141
        }
      ]
    },
    {
      "cell_type": "markdown",
      "source": [
        "Berdasarkan dari deskripsi pada data numerik tersebut terdapat beberapa hal yang ditemukan dan dapat disimpulkan yaitu :\n",
        "\n",
        "1. Pada **kolom Ease of Online booking** dapat diketahui bahwa kolom tersebut memiliki nilai minimum sebanyak 0.00000 dan nilai maksimum yang didapat sebanyak 5.000000. Sedangkan rata-rata nilai yang didapat yaitu sebanyak 2.756901 yang dimana nilai rata-rata pada kolom tersebut kurang mendekati dengan nilai maksimum. Sehingga dapat disimpulkan bahwa kualitas pelayanan yang diberikan kurang maksimal dalam memberikan kemudahan untuk booking tiket secara online.\n",
        "\n",
        "---\n",
        "\n",
        "2.   Pada **kolom Seat comfort** dapat diketahui bahwa jumlah minimal yang diperoleh yaitu sebanyak 0.000000\tdan maksimum 5.000000. Sedangkan rata-rata yang didapat yaitu 3.439396. Maka dapat disimpulkan bahwa kualitas kursi penumpang yang disediakan pada pesawat tersebut nyaman digunakan oleh penumpang bagi semua kalangan usia.\n",
        "\n",
        "---\n",
        "\n",
        "3. Pada **kolom Flight Distance** dapat diketahui bahwa nilai minimum yang diperoleh yaitu sebanyak 31.000000 dan nilai maksimum sebanyak 4983.000000, sedangkan rata-rata yang diperoleh yaitu 1189.448375. Maka dapat disimpulkan bahwa tidak banyak pesawat melakukan perjalanan dengan jarak penerbangan yang sangat jauh sehingga risiko penundaan waktu keberangkatan dan tiba pesawat rendah."
      ],
      "metadata": {
        "id": "iinrJVE6h4K3"
      }
    },
    {
      "cell_type": "markdown",
      "source": [
        "## E. Exploratory Data Analysis"
      ],
      "metadata": {
        "id": "NhHrcMdrPH3f"
      }
    },
    {
      "cell_type": "markdown",
      "source": [
        "Setelah melakukan proses eksplorasi dilakukan proses visualisasi data terhadap beberapa kolom pada DataFrame"
      ],
      "metadata": {
        "id": "EgRb4hvIAg6V"
      }
    },
    {
      "cell_type": "markdown",
      "source": [
        "### E.1 Usia penumpang (Distribution)\n",
        "\n",
        "Proses ini dilakukan untuk mengetahui usia penumpang yang sering naik pesawat."
      ],
      "metadata": {
        "id": "Fvf9QRYV6nnt"
      }
    },
    {
      "cell_type": "code",
      "source": [
        "from matplotlib import pyplot as plt\n",
        "\n",
        "plt.hist(df['Age'].to_numpy())\n",
        "plt.xlabel('Umur')\n",
        "plt.ylabel('Jumlah')\n",
        "plt.show()"
      ],
      "metadata": {
        "colab": {
          "base_uri": "https://localhost:8080/",
          "height": 334
        },
        "id": "SMSt3dL_6olY",
        "outputId": "cf7a6291-70f9-42ce-a166-dc625a047d17"
      },
      "execution_count": null,
      "outputs": [
        {
          "output_type": "stream",
          "name": "stderr",
          "text": [
            "/usr/local/lib/python3.7/dist-packages/pyspark/pandas/utils.py:975: PandasAPIOnSparkAdviceWarning: `to_numpy` loads all data into the driver's memory. It should only be used if the resulting NumPy ndarray is expected to be small.\n",
            "  warnings.warn(message, PandasAPIOnSparkAdviceWarning)\n"
          ]
        },
        {
          "output_type": "display_data",
          "data": {
            "text/plain": [
              "<Figure size 432x288 with 1 Axes>"
            ],
            "image/png": "[encoded data removed]"
          },
          "metadata": {
            "needs_background": "light"
          }
        }
      ]
    },
    {
      "cell_type": "code",
      "source": [
        "from matplotlib import pyplot as plt\n",
        "\n",
        "plt.boxplot(df['Age'].to_numpy())\n",
        "plt.xlabel('Umur')\n",
        "plt.ylabel('Jumlah')\n",
        "plt.show()"
      ],
      "metadata": {
        "colab": {
          "base_uri": "https://localhost:8080/",
          "height": 334
        },
        "id": "B-9o6mBn-1cn",
        "outputId": "3b445ec8-a471-4e2f-9198-d1a2185b256f"
      },
      "execution_count": null,
      "outputs": [
        {
          "output_type": "stream",
          "name": "stderr",
          "text": [
            "/usr/local/lib/python3.7/dist-packages/pyspark/pandas/utils.py:975: PandasAPIOnSparkAdviceWarning: `to_numpy` loads all data into the driver's memory. It should only be used if the resulting NumPy ndarray is expected to be small.\n",
            "  warnings.warn(message, PandasAPIOnSparkAdviceWarning)\n"
          ]
        },
        {
          "output_type": "display_data",
          "data": {
            "text/plain": [
              "<Figure size 432x288 with 1 Axes>"
            ],
            "image/png": "[encoded data removed]"
          },
          "metadata": {
            "needs_background": "light"
          }
        }
      ]
    },
    {
      "cell_type": "markdown",
      "source": [
        "Dari histogram chart dan boxplot chart tersebut dapat diketahui bahwa usia penumpang yang sering menaiki pesawat adalah pada usia 25 tahun sampai dengan usia 50 tahun. Sedangkan usia penumpang yang jarang menaiki pesawat adalah penumpang dengan usia 55 tahun keatas.\n",
        "\n",
        "* Kesimpulan yang didapat yaitu bahwa usia penumpang yang sering naik pesawat adalah pada saat usia produktif."
      ],
      "metadata": {
        "id": "sLJotYN3_0vr"
      }
    },
    {
      "cell_type": "markdown",
      "source": [
        "### E.2 Kelas Penerbangan (Comparison)\n",
        "\n",
        "Proses ini untuk mengetahui kelas penerbangan yang sering dinaiki oleh penumpang pesawat"
      ],
      "metadata": {
        "id": "_sTji3o0FL9C"
      }
    },
    {
      "cell_type": "code",
      "source": [
        "from matplotlib import pyplot as plt\n",
        "\n",
        "cls = df['Class'].value_counts()\n",
        "\n",
        "index = cls.index.tolist()\n",
        "values = cls.values.tolist()\n",
        "\n",
        "plt.bar(index, values)\n",
        "plt.xlabel('Kelas Penerbangan')\n",
        "plt.ylabel('Jumlah')\n",
        "plt.show()"
      ],
      "metadata": {
        "colab": {
          "base_uri": "https://localhost:8080/",
          "height": 403
        },
        "id": "69tvAZ69PhR0",
        "outputId": "f5beb7d9-02c5-4f5d-c63a-ea52263f87ee"
      },
      "execution_count": null,
      "outputs": [
        {
          "output_type": "stream",
          "name": "stderr",
          "text": [
            "/usr/local/lib/python3.7/dist-packages/pyspark/pandas/utils.py:975: PandasAPIOnSparkAdviceWarning: `to_list` loads all data into the driver's memory. It should only be used if the resulting list is expected to be small.\n",
            "  warnings.warn(message, PandasAPIOnSparkAdviceWarning)\n",
            "/usr/local/lib/python3.7/dist-packages/pyspark/pandas/generic.py:647: UserWarning: We recommend using `Series.to_numpy()` instead.\n",
            "  warnings.warn(\"We recommend using `{}.to_numpy()` instead.\".format(type(self).__name__))\n",
            "/usr/local/lib/python3.7/dist-packages/pyspark/pandas/utils.py:975: PandasAPIOnSparkAdviceWarning: `to_numpy` loads all data into the driver's memory. It should only be used if the resulting NumPy ndarray is expected to be small.\n",
            "  warnings.warn(message, PandasAPIOnSparkAdviceWarning)\n"
          ]
        },
        {
          "output_type": "display_data",
          "data": {
            "text/plain": [
              "<Figure size 432x288 with 1 Axes>"
            ],
            "image/png": "[encoded data removed]"
          },
          "metadata": {
            "needs_background": "light"
          }
        }
      ]
    },
    {
      "cell_type": "markdown",
      "source": [
        "Berdasarkan bar chart tersebut maka dapat diketahui bahwa penumpang pesawat sering naik pesawat yang kelas penerbanga Business atau Eco. sedangkan penumpang pesawat jarang menaiki pesawat kelas Eco Plus dengan jumlah data yang didapat yaitu < 10000 penumpang."
      ],
      "metadata": {
        "id": "UQboynS3V_cf"
      }
    },
    {
      "cell_type": "markdown",
      "source": [
        "### E.3 Kepuasan Penumpang (Composition)\n",
        "\n",
        "Proses ini untuk mengetahui tingkat kepuasan pada penumpang pesawat."
      ],
      "metadata": {
        "id": "3bz9mKolYzRo"
      }
    },
    {
      "cell_type": "code",
      "source": [
        "df['satisfaction'].value_counts()"
      ],
      "metadata": {
        "colab": {
          "base_uri": "https://localhost:8080/"
        },
        "id": "xEAXWRAUa7NF",
        "outputId": "c25c596c-7e86-4649-d418-a24a9c6b07a6"
      },
      "execution_count": null,
      "outputs": [
        {
          "output_type": "execute_result",
          "data": {
            "text/plain": [
              "neutral or dissatisfied    58879\n",
              "satisfied                  45025\n",
              "Name: satisfaction, dtype: int64"
            ]
          },
          "metadata": {},
          "execution_count": 145
        }
      ]
    },
    {
      "cell_type": "markdown",
      "source": [
        "Berdasarkan hasil perhitungan value pada kolom **'satisfaction'** dapat disimpulkan bahwa sebanyak 45025 penumpang merasa puas dengan kenyamanan ataupun pelayanan maskapai pesawat dan sebanyak 58879 penumpang merasa netral atau kurang puas."
      ],
      "metadata": {
        "id": "cx0qgvI-CFcM"
      }
    },
    {
      "cell_type": "code",
      "source": [
        "from matplotlib import pyplot as plt\n",
        "\n",
        "plt.pie(df['satisfaction'].value_counts().to_numpy())\n",
        "plt.legend(['neutral or dissatisfied', 'satisfied'])\n",
        "plt.show() "
      ],
      "metadata": {
        "colab": {
          "base_uri": "https://localhost:8080/",
          "height": 303
        },
        "id": "cvKfkvLrY4Nx",
        "outputId": "ed8b5e8c-3e96-4db6-8e5a-3faa6587cfdb"
      },
      "execution_count": null,
      "outputs": [
        {
          "output_type": "stream",
          "name": "stderr",
          "text": [
            "/usr/local/lib/python3.7/dist-packages/pyspark/pandas/utils.py:975: PandasAPIOnSparkAdviceWarning: `to_numpy` loads all data into the driver's memory. It should only be used if the resulting NumPy ndarray is expected to be small.\n",
            "  warnings.warn(message, PandasAPIOnSparkAdviceWarning)\n"
          ]
        },
        {
          "output_type": "display_data",
          "data": {
            "text/plain": [
              "<Figure size 432x288 with 1 Axes>"
            ],
            "image/png": "[encoded data removed]"
          },
          "metadata": {}
        }
      ]
    },
    {
      "cell_type": "markdown",
      "source": [
        "Berdasarkan dari pie chart tersebut dapat disimpulkan bahwa banyak penumpang yang tidak puas dengan pelayanan maskapai pesawat."
      ],
      "metadata": {
        "id": "kX9dewEJbIi-"
      }
    },
    {
      "cell_type": "markdown",
      "source": [
        "### E.4 Hubungan antara Inflight entertainment dan Seat comfort (Relation)"
      ],
      "metadata": {
        "id": "mb6kDlBweeHE"
      }
    },
    {
      "cell_type": "markdown",
      "source": [
        "Proses ini digunakan untuk mengetahui hubungan antara data kolom Inflight entertainment dengan kolom Seat comfort"
      ],
      "metadata": {
        "id": "V0BFiXXDC8-8"
      }
    },
    {
      "cell_type": "code",
      "source": [
        "from matplotlib import pyplot as plt\n",
        "\n",
        "plt.scatter(df['Inflight entertainment'].to_numpy(), df['Seat comfort'].to_numpy())\n",
        "plt.show()"
      ],
      "metadata": {
        "colab": {
          "base_uri": "https://localhost:8080/",
          "height": 320
        },
        "id": "pMCaqtiksvp4",
        "outputId": "60219735-0bfb-43fd-ad33-d0e2d34ad90e"
      },
      "execution_count": null,
      "outputs": [
        {
          "output_type": "stream",
          "name": "stderr",
          "text": [
            "/usr/local/lib/python3.7/dist-packages/pyspark/pandas/utils.py:975: PandasAPIOnSparkAdviceWarning: `to_numpy` loads all data into the driver's memory. It should only be used if the resulting NumPy ndarray is expected to be small.\n",
            "  warnings.warn(message, PandasAPIOnSparkAdviceWarning)\n"
          ]
        },
        {
          "output_type": "display_data",
          "data": {
            "text/plain": [
              "<Figure size 432x288 with 1 Axes>"
            ],
            "image/png": "[encoded data removed]"
          },
          "metadata": {
            "needs_background": "light"
          }
        }
      ]
    },
    {
      "cell_type": "markdown",
      "source": [
        "Karena pembacaan data yang sulit dan kurang jelas letak ataupun kedalaman data yang disajikan maka menggunakan hexbin chart sebagai berikut."
      ],
      "metadata": {
        "id": "NLwAzIWYvHww"
      }
    },
    {
      "cell_type": "code",
      "source": [
        "from matplotlib import pyplot as plt\n",
        "\n",
        "hb = plt.hexbin(df['Inflight entertainment'].to_numpy(), df['Seat comfort'].to_numpy(), gridsize=25)\n",
        "cb = plt.colorbar(hb)\n",
        "plt.show()"
      ],
      "metadata": {
        "colab": {
          "base_uri": "https://localhost:8080/",
          "height": 320
        },
        "id": "S1ZS4TALfhrB",
        "outputId": "a846f9a2-ab6c-40ca-9974-7794d88ed5c9"
      },
      "execution_count": null,
      "outputs": [
        {
          "output_type": "stream",
          "name": "stderr",
          "text": [
            "/usr/local/lib/python3.7/dist-packages/pyspark/pandas/utils.py:975: PandasAPIOnSparkAdviceWarning: `to_numpy` loads all data into the driver's memory. It should only be used if the resulting NumPy ndarray is expected to be small.\n",
            "  warnings.warn(message, PandasAPIOnSparkAdviceWarning)\n"
          ]
        },
        {
          "output_type": "display_data",
          "data": {
            "text/plain": [
              "<Figure size 432x288 with 2 Axes>"
            ],
            "image/png": "[encoded data removed]"
          },
          "metadata": {
            "needs_background": "light"
          }
        }
      ]
    },
    {
      "cell_type": "markdown",
      "source": [
        "Berdasarkan hasil tersebut dapat disimpulkan bahwa hubungan antara Inflight entertainment dengan Seat comfort tersebut cukup dekat. Karena terdapat kurang lebih 17500 penumpang yang lebih memprioritaskan Inflight entertaiment.\n",
        "\n",
        "* Maka dapat disimpulkan bahwa tingkat kenyamanan dan hiburan yang didapatkan sangat tinggi yaitu dengan jumlah sekitar lebih dari 4.\n",
        "\n"
      ],
      "metadata": {
        "id": "UP-kOQicvOpG"
      }
    },
    {
      "cell_type": "markdown",
      "source": [
        "---\n",
        "# 2.   Membuat model machine learning klasifikasi berdasarkan dataset menggunakan Spark\n",
        "---"
      ],
      "metadata": {
        "id": "bis3iTigoQxZ"
      }
    },
    {
      "cell_type": "markdown",
      "source": [
        "## Machine Learning Classification"
      ],
      "metadata": {
        "id": "GPQsKWYsDpXY"
      }
    },
    {
      "cell_type": "markdown",
      "source": [
        "Proses klasifikasi ini menggunakan dataset yang sama. Agar dapat mengubah tabel DataFrame menjadi tabel Spark maka dilakukan install PySpark yang sudah dilakukan sebelumnya. Berikut adalah hasil pemanggilan DataFrame yang ditampilkan sebanyak 5 data."
      ],
      "metadata": {
        "id": "25qm0dEqot6N"
      }
    },
    {
      "cell_type": "code",
      "source": [
        "df.head()"
      ],
      "metadata": {
        "colab": {
          "base_uri": "https://localhost:8080/",
          "height": 365
        },
        "id": "85X2Dov4Ds32",
        "outputId": "b69fa871-7ba5-4b8c-e919-efae962f610a"
      },
      "execution_count": null,
      "outputs": [
        {
          "output_type": "execute_result",
          "data": {
            "text/plain": [
              "   Unnamed: 0      id  Gender      Customer Type  Age   Type of Travel     Class  Flight Distance  Inflight wifi service  Departure/Arrival time convenient  Ease of Online booking  Gate location  Food and drink  Online boarding  Seat comfort  Inflight entertainment  On-board service  Leg room service  Baggage handling  Checkin service  Inflight service  Cleanliness  Departure Delay in Minutes  Arrival Delay in Minutes             satisfaction\n",
              "0           0   70172    Male     Loyal Customer   13  Personal Travel  Eco Plus              460                      3                                  4                       3              1               5                3             5                       5                 4                 3                 4                4                 5            5                          25                      18.0  neutral or dissatisfied\n",
              "1           1    5047    Male  disloyal Customer   25  Business travel  Business              235                      3                                  2                       3              3               1                3             1                       1                 1                 5                 3                1                 4            1                           1                       6.0  neutral or dissatisfied\n",
              "2           2  110028  Female     Loyal Customer   26  Business travel  Business             1142                      2                                  2                       2              2               5                5             5                       5                 4                 3                 4                4                 4            5                           0                       0.0                satisfied\n",
              "3           3   24026  Female     Loyal Customer   25  Business travel  Business              562                      2                                  5                       5              5               2                2             2                       2                 2                 5                 3                1                 4            2                          11                       9.0  neutral or dissatisfied\n",
              "4           4  119299    Male     Loyal Customer   61  Business travel  Business              214                      3                                  3                       3              3               4                5             5                       3                 3                 4                 4                3                 3            3                           0                       0.0                satisfied"
            ],
            "text/html": [
              "<div>\n",
              "<style scoped>\n",
              "    .dataframe tbody tr th:only-of-type {\n",
              "        vertical-align: middle;\n",
              "    }\n",
              "\n",
              "    .dataframe tbody tr th {\n",
              "        vertical-align: top;\n",
              "    }\n",
              "\n",
              "    .dataframe thead th {\n",
              "        text-align: right;\n",
              "    }\n",
              "</style>\n",
              "<table border=\"1\" class=\"dataframe\">\n",
              "  <thead>\n",
              "    <tr style=\"text-align: right;\">\n",
              "      <th></th>\n",
              "      <th>Unnamed: 0</th>\n",
              "      <th>id</th>\n",
              "      <th>Gender</th>\n",
              "      <th>Customer Type</th>\n",
              "      <th>Age</th>\n",
              "      <th>Type of Travel</th>\n",
              "      <th>Class</th>\n",
              "      <th>Flight Distance</th>\n",
              "      <th>Inflight wifi service</th>\n",
              "      <th>Departure/Arrival time convenient</th>\n",
              "      <th>Ease of Online booking</th>\n",
              "      <th>Gate location</th>\n",
              "      <th>Food and drink</th>\n",
              "      <th>Online boarding</th>\n",
              "      <th>Seat comfort</th>\n",
              "      <th>Inflight entertainment</th>\n",
              "      <th>On-board service</th>\n",
              "      <th>Leg room service</th>\n",
              "      <th>Baggage handling</th>\n",
              "      <th>Checkin service</th>\n",
              "      <th>Inflight service</th>\n",
              "      <th>Cleanliness</th>\n",
              "      <th>Departure Delay in Minutes</th>\n",
              "      <th>Arrival Delay in Minutes</th>\n",
              "      <th>satisfaction</th>\n",
              "    </tr>\n",
              "  </thead>\n",
              "  <tbody>\n",
              "    <tr>\n",
              "      <th>0</th>\n",
              "      <td>0</td>\n",
              "      <td>70172</td>\n",
              "      <td>Male</td>\n",
              "      <td>Loyal Customer</td>\n",
              "      <td>13</td>\n",
              "      <td>Personal Travel</td>\n",
              "      <td>Eco Plus</td>\n",
              "      <td>460</td>\n",
              "      <td>3</td>\n",
              "      <td>4</td>\n",
              "      <td>3</td>\n",
              "      <td>1</td>\n",
              "      <td>5</td>\n",
              "      <td>3</td>\n",
              "      <td>5</td>\n",
              "      <td>5</td>\n",
              "      <td>4</td>\n",
              "      <td>3</td>\n",
              "      <td>4</td>\n",
              "      <td>4</td>\n",
              "      <td>5</td>\n",
              "      <td>5</td>\n",
              "      <td>25</td>\n",
              "      <td>18.0</td>\n",
              "      <td>neutral or dissatisfied</td>\n",
              "    </tr>\n",
              "    <tr>\n",
              "      <th>1</th>\n",
              "      <td>1</td>\n",
              "      <td>5047</td>\n",
              "      <td>Male</td>\n",
              "      <td>disloyal Customer</td>\n",
              "      <td>25</td>\n",
              "      <td>Business travel</td>\n",
              "      <td>Business</td>\n",
              "      <td>235</td>\n",
              "      <td>3</td>\n",
              "      <td>2</td>\n",
              "      <td>3</td>\n",
              "      <td>3</td>\n",
              "      <td>1</td>\n",
              "      <td>3</td>\n",
              "      <td>1</td>\n",
              "      <td>1</td>\n",
              "      <td>1</td>\n",
              "      <td>5</td>\n",
              "      <td>3</td>\n",
              "      <td>1</td>\n",
              "      <td>4</td>\n",
              "      <td>1</td>\n",
              "      <td>1</td>\n",
              "      <td>6.0</td>\n",
              "      <td>neutral or dissatisfied</td>\n",
              "    </tr>\n",
              "    <tr>\n",
              "      <th>2</th>\n",
              "      <td>2</td>\n",
              "      <td>110028</td>\n",
              "      <td>Female</td>\n",
              "      <td>Loyal Customer</td>\n",
              "      <td>26</td>\n",
              "      <td>Business travel</td>\n",
              "      <td>Business</td>\n",
              "      <td>1142</td>\n",
              "      <td>2</td>\n",
              "      <td>2</td>\n",
              "      <td>2</td>\n",
              "      <td>2</td>\n",
              "      <td>5</td>\n",
              "      <td>5</td>\n",
              "      <td>5</td>\n",
              "      <td>5</td>\n",
              "      <td>4</td>\n",
              "      <td>3</td>\n",
              "      <td>4</td>\n",
              "      <td>4</td>\n",
              "      <td>4</td>\n",
              "      <td>5</td>\n",
              "      <td>0</td>\n",
              "      <td>0.0</td>\n",
              "      <td>satisfied</td>\n",
              "    </tr>\n",
              "    <tr>\n",
              "      <th>3</th>\n",
              "      <td>3</td>\n",
              "      <td>24026</td>\n",
              "      <td>Female</td>\n",
              "      <td>Loyal Customer</td>\n",
              "      <td>25</td>\n",
              "      <td>Business travel</td>\n",
              "      <td>Business</td>\n",
              "      <td>562</td>\n",
              "      <td>2</td>\n",
              "      <td>5</td>\n",
              "      <td>5</td>\n",
              "      <td>5</td>\n",
              "      <td>2</td>\n",
              "      <td>2</td>\n",
              "      <td>2</td>\n",
              "      <td>2</td>\n",
              "      <td>2</td>\n",
              "      <td>5</td>\n",
              "      <td>3</td>\n",
              "      <td>1</td>\n",
              "      <td>4</td>\n",
              "      <td>2</td>\n",
              "      <td>11</td>\n",
              "      <td>9.0</td>\n",
              "      <td>neutral or dissatisfied</td>\n",
              "    </tr>\n",
              "    <tr>\n",
              "      <th>4</th>\n",
              "      <td>4</td>\n",
              "      <td>119299</td>\n",
              "      <td>Male</td>\n",
              "      <td>Loyal Customer</td>\n",
              "      <td>61</td>\n",
              "      <td>Business travel</td>\n",
              "      <td>Business</td>\n",
              "      <td>214</td>\n",
              "      <td>3</td>\n",
              "      <td>3</td>\n",
              "      <td>3</td>\n",
              "      <td>3</td>\n",
              "      <td>4</td>\n",
              "      <td>5</td>\n",
              "      <td>5</td>\n",
              "      <td>3</td>\n",
              "      <td>3</td>\n",
              "      <td>4</td>\n",
              "      <td>4</td>\n",
              "      <td>3</td>\n",
              "      <td>3</td>\n",
              "      <td>3</td>\n",
              "      <td>0</td>\n",
              "      <td>0.0</td>\n",
              "      <td>satisfied</td>\n",
              "    </tr>\n",
              "  </tbody>\n",
              "</table>\n",
              "</div>"
            ]
          },
          "metadata": {},
          "execution_count": 149
        }
      ]
    },
    {
      "cell_type": "markdown",
      "source": [
        "## A. Preprocessing Data"
      ],
      "metadata": {
        "id": "XubTtUtIGg86"
      }
    },
    {
      "cell_type": "markdown",
      "source": [
        "Sebelum melakukan proses klasifikasi dilakukan preprocessing data dengan mengganti data kategorik menjadi data numerik pada kolom bertipe string atau objek yaitu kolom Gender, Customer Type, Type of Travel, Class dan Satisfaction. Selain itu proses ini juga dilakukan pengubahan (rename) kolom satisfaction menjadi kolom target."
      ],
      "metadata": {
        "id": "to7SVoiMpsS3"
      }
    },
    {
      "cell_type": "code",
      "source": [
        "# ubah gender\n",
        "df[\"Gender\"] = df[\"Gender\"].replace([\"Female\"], 0)\n",
        "df[\"Gender\"] = df[\"Gender\"].replace([\"Male\"], 1)\n",
        "\n",
        "# ubah Customer Type\n",
        "df[\"Customer Type\"] = df[\"Customer Type\"].replace([\"disloyal Customer\"], 0)\n",
        "df[\"Customer Type\"] = df[\"Customer Type\"].replace([\"Loyal Customer\"], 1)\n",
        "\n",
        "# ubah Type of Travel\n",
        "df[\"Type of Travel\"] = df[\"Type of Travel\"].replace([\"Personal Travel\"], 0)\n",
        "df[\"Type of Travel\"] = df[\"Type of Travel\"].replace([\"Business travel\"], 1)\n",
        "\n",
        "# Ubah Class\n",
        "df[\"Class\"] = df[\"Class\"].replace([\"Eco\"], 0)\n",
        "df[\"Class\"] = df[\"Class\"].replace([\"Eco Plus\"], 1)\n",
        "df[\"Class\"] = df[\"Class\"].replace([\"Business\"], 2)\n",
        "\n",
        "# ubah satisfaction\n",
        "df[\"satisfaction\"] = df[\"satisfaction\"].replace([\"neutral or dissatisfied\"], 0)\n",
        "df[\"satisfaction\"] = df[\"satisfaction\"].replace([\"satisfied\"], 1)\n",
        "\n",
        "df.head()\n"
      ],
      "metadata": {
        "colab": {
          "base_uri": "https://localhost:8080/",
          "height": 278
        },
        "id": "u25TLhwcEWvO",
        "outputId": "8fba8b2e-ffb5-4f97-f507-185ca48f6e45"
      },
      "execution_count": null,
      "outputs": [
        {
          "output_type": "execute_result",
          "data": {
            "text/plain": [
              "   Unnamed: 0      id Gender Customer Type  Age Type of Travel Class  Flight Distance  Inflight wifi service  Departure/Arrival time convenient  Ease of Online booking  Gate location  Food and drink  Online boarding  Seat comfort  Inflight entertainment  On-board service  Leg room service  Baggage handling  Checkin service  Inflight service  Cleanliness  Departure Delay in Minutes  Arrival Delay in Minutes satisfaction\n",
              "0           0   70172      1             1   13              0     1              460                      3                                  4                       3              1               5                3             5                       5                 4                 3                 4                4                 5            5                          25                      18.0            0\n",
              "1           1    5047      1             0   25              1     2              235                      3                                  2                       3              3               1                3             1                       1                 1                 5                 3                1                 4            1                           1                       6.0            0\n",
              "2           2  110028      0             1   26              1     2             1142                      2                                  2                       2              2               5                5             5                       5                 4                 3                 4                4                 4            5                           0                       0.0            1\n",
              "3           3   24026      0             1   25              1     2              562                      2                                  5                       5              5               2                2             2                       2                 2                 5                 3                1                 4            2                          11                       9.0            0\n",
              "4           4  119299      1             1   61              1     2              214                      3                                  3                       3              3               4                5             5                       3                 3                 4                 4                3                 3            3                           0                       0.0            1"
            ],
            "text/html": [
              "<div>\n",
              "<style scoped>\n",
              "    .dataframe tbody tr th:only-of-type {\n",
              "        vertical-align: middle;\n",
              "    }\n",
              "\n",
              "    .dataframe tbody tr th {\n",
              "        vertical-align: top;\n",
              "    }\n",
              "\n",
              "    .dataframe thead th {\n",
              "        text-align: right;\n",
              "    }\n",
              "</style>\n",
              "<table border=\"1\" class=\"dataframe\">\n",
              "  <thead>\n",
              "    <tr style=\"text-align: right;\">\n",
              "      <th></th>\n",
              "      <th>Unnamed: 0</th>\n",
              "      <th>id</th>\n",
              "      <th>Gender</th>\n",
              "      <th>Customer Type</th>\n",
              "      <th>Age</th>\n",
              "      <th>Type of Travel</th>\n",
              "      <th>Class</th>\n",
              "      <th>Flight Distance</th>\n",
              "      <th>Inflight wifi service</th>\n",
              "      <th>Departure/Arrival time convenient</th>\n",
              "      <th>Ease of Online booking</th>\n",
              "      <th>Gate location</th>\n",
              "      <th>Food and drink</th>\n",
              "      <th>Online boarding</th>\n",
              "      <th>Seat comfort</th>\n",
              "      <th>Inflight entertainment</th>\n",
              "      <th>On-board service</th>\n",
              "      <th>Leg room service</th>\n",
              "      <th>Baggage handling</th>\n",
              "      <th>Checkin service</th>\n",
              "      <th>Inflight service</th>\n",
              "      <th>Cleanliness</th>\n",
              "      <th>Departure Delay in Minutes</th>\n",
              "      <th>Arrival Delay in Minutes</th>\n",
              "      <th>satisfaction</th>\n",
              "    </tr>\n",
              "  </thead>\n",
              "  <tbody>\n",
              "    <tr>\n",
              "      <th>0</th>\n",
              "      <td>0</td>\n",
              "      <td>70172</td>\n",
              "      <td>1</td>\n",
              "      <td>1</td>\n",
              "      <td>13</td>\n",
              "      <td>0</td>\n",
              "      <td>1</td>\n",
              "      <td>460</td>\n",
              "      <td>3</td>\n",
              "      <td>4</td>\n",
              "      <td>3</td>\n",
              "      <td>1</td>\n",
              "      <td>5</td>\n",
              "      <td>3</td>\n",
              "      <td>5</td>\n",
              "      <td>5</td>\n",
              "      <td>4</td>\n",
              "      <td>3</td>\n",
              "      <td>4</td>\n",
              "      <td>4</td>\n",
              "      <td>5</td>\n",
              "      <td>5</td>\n",
              "      <td>25</td>\n",
              "      <td>18.0</td>\n",
              "      <td>0</td>\n",
              "    </tr>\n",
              "    <tr>\n",
              "      <th>1</th>\n",
              "      <td>1</td>\n",
              "      <td>5047</td>\n",
              "      <td>1</td>\n",
              "      <td>0</td>\n",
              "      <td>25</td>\n",
              "      <td>1</td>\n",
              "      <td>2</td>\n",
              "      <td>235</td>\n",
              "      <td>3</td>\n",
              "      <td>2</td>\n",
              "      <td>3</td>\n",
              "      <td>3</td>\n",
              "      <td>1</td>\n",
              "      <td>3</td>\n",
              "      <td>1</td>\n",
              "      <td>1</td>\n",
              "      <td>1</td>\n",
              "      <td>5</td>\n",
              "      <td>3</td>\n",
              "      <td>1</td>\n",
              "      <td>4</td>\n",
              "      <td>1</td>\n",
              "      <td>1</td>\n",
              "      <td>6.0</td>\n",
              "      <td>0</td>\n",
              "    </tr>\n",
              "    <tr>\n",
              "      <th>2</th>\n",
              "      <td>2</td>\n",
              "      <td>110028</td>\n",
              "      <td>0</td>\n",
              "      <td>1</td>\n",
              "      <td>26</td>\n",
              "      <td>1</td>\n",
              "      <td>2</td>\n",
              "      <td>1142</td>\n",
              "      <td>2</td>\n",
              "      <td>2</td>\n",
              "      <td>2</td>\n",
              "      <td>2</td>\n",
              "      <td>5</td>\n",
              "      <td>5</td>\n",
              "      <td>5</td>\n",
              "      <td>5</td>\n",
              "      <td>4</td>\n",
              "      <td>3</td>\n",
              "      <td>4</td>\n",
              "      <td>4</td>\n",
              "      <td>4</td>\n",
              "      <td>5</td>\n",
              "      <td>0</td>\n",
              "      <td>0.0</td>\n",
              "      <td>1</td>\n",
              "    </tr>\n",
              "    <tr>\n",
              "      <th>3</th>\n",
              "      <td>3</td>\n",
              "      <td>24026</td>\n",
              "      <td>0</td>\n",
              "      <td>1</td>\n",
              "      <td>25</td>\n",
              "      <td>1</td>\n",
              "      <td>2</td>\n",
              "      <td>562</td>\n",
              "      <td>2</td>\n",
              "      <td>5</td>\n",
              "      <td>5</td>\n",
              "      <td>5</td>\n",
              "      <td>2</td>\n",
              "      <td>2</td>\n",
              "      <td>2</td>\n",
              "      <td>2</td>\n",
              "      <td>2</td>\n",
              "      <td>5</td>\n",
              "      <td>3</td>\n",
              "      <td>1</td>\n",
              "      <td>4</td>\n",
              "      <td>2</td>\n",
              "      <td>11</td>\n",
              "      <td>9.0</td>\n",
              "      <td>0</td>\n",
              "    </tr>\n",
              "    <tr>\n",
              "      <th>4</th>\n",
              "      <td>4</td>\n",
              "      <td>119299</td>\n",
              "      <td>1</td>\n",
              "      <td>1</td>\n",
              "      <td>61</td>\n",
              "      <td>1</td>\n",
              "      <td>2</td>\n",
              "      <td>214</td>\n",
              "      <td>3</td>\n",
              "      <td>3</td>\n",
              "      <td>3</td>\n",
              "      <td>3</td>\n",
              "      <td>4</td>\n",
              "      <td>5</td>\n",
              "      <td>5</td>\n",
              "      <td>3</td>\n",
              "      <td>3</td>\n",
              "      <td>4</td>\n",
              "      <td>4</td>\n",
              "      <td>3</td>\n",
              "      <td>3</td>\n",
              "      <td>3</td>\n",
              "      <td>0</td>\n",
              "      <td>0.0</td>\n",
              "      <td>1</td>\n",
              "    </tr>\n",
              "  </tbody>\n",
              "</table>\n",
              "</div>"
            ]
          },
          "metadata": {},
          "execution_count": 150
        }
      ]
    },
    {
      "cell_type": "markdown",
      "source": [
        "Setelah mengganti nilai data huruf menjadi angka dilakukan perubahan jenis atau tipe data pada kolom-kolom yang telah disebutkan sebelumnya. Tujuannya yaitu agar DataFrame dapat diubah menjadi tabel Spark. Pada proses ini yaitu mengubah data object menjadi int. "
      ],
      "metadata": {
        "id": "SaKiKloMqe4a"
      }
    },
    {
      "cell_type": "code",
      "source": [
        "df['Gender'] = df['Gender'].astype('int64')\n",
        "df['Customer Type'] = df['Customer Type'].astype('int64')\n",
        "df['Type of Travel'] = df['Type of Travel'].astype('int64')\n",
        "df['Class'] = df['Class'].astype('int64')\n",
        "df['satisfaction'] = df['satisfaction'].astype('int64')\n",
        "df.rename(columns={'satisfaction': 'target'}, inplace=True)\n",
        "df.dtypes"
      ],
      "metadata": {
        "id": "DoVUCWftRTMI",
        "colab": {
          "base_uri": "https://localhost:8080/"
        },
        "outputId": "5de4c436-4abf-4a80-94dd-75ad8ef95409"
      },
      "execution_count": null,
      "outputs": [
        {
          "output_type": "execute_result",
          "data": {
            "text/plain": [
              "Unnamed: 0                             int64\n",
              "id                                     int64\n",
              "Gender                                 int64\n",
              "Customer Type                          int64\n",
              "Age                                    int64\n",
              "Type of Travel                         int64\n",
              "Class                                  int64\n",
              "Flight Distance                        int64\n",
              "Inflight wifi service                  int64\n",
              "Departure/Arrival time convenient      int64\n",
              "Ease of Online booking                 int64\n",
              "Gate location                          int64\n",
              "Food and drink                         int64\n",
              "Online boarding                        int64\n",
              "Seat comfort                           int64\n",
              "Inflight entertainment                 int64\n",
              "On-board service                       int64\n",
              "Leg room service                       int64\n",
              "Baggage handling                       int64\n",
              "Checkin service                        int64\n",
              "Inflight service                       int64\n",
              "Cleanliness                            int64\n",
              "Departure Delay in Minutes             int64\n",
              "Arrival Delay in Minutes             float64\n",
              "target                                 int64\n",
              "dtype: object"
            ]
          },
          "metadata": {},
          "execution_count": 151
        }
      ]
    },
    {
      "cell_type": "markdown",
      "source": [
        "Setelah tipe data berhasil diubah menjadi int maka tabel tersebut dapat diubah menjadi tabel spark dengan proses sebagai berikut."
      ],
      "metadata": {
        "id": "gZ5yX2unrOP0"
      }
    },
    {
      "cell_type": "markdown",
      "source": [
        "- Mengubah DataFrame menjadi Dataframe Pandas"
      ],
      "metadata": {
        "id": "N1V6mh0v8Jmp"
      }
    },
    {
      "cell_type": "code",
      "source": [
        "pdf = df.to_pandas()\n",
        "pdf"
      ],
      "metadata": {
        "colab": {
          "base_uri": "https://localhost:8080/",
          "height": 574
        },
        "id": "BDE-336PPQ_z",
        "outputId": "596bc8e5-6f1e-4f37-aa85-3c837352c4d2"
      },
      "execution_count": null,
      "outputs": [
        {
          "output_type": "stream",
          "name": "stderr",
          "text": [
            "/usr/local/lib/python3.7/dist-packages/pyspark/pandas/utils.py:975: PandasAPIOnSparkAdviceWarning: `to_pandas` loads all data into the driver's memory. It should only be used if the resulting pandas DataFrame is expected to be small.\n",
            "  warnings.warn(message, PandasAPIOnSparkAdviceWarning)\n"
          ]
        },
        {
          "output_type": "execute_result",
          "data": {
            "text/plain": [
              "        Unnamed: 0      id  Gender  Customer Type  Age  Type of Travel  Class  \\\n",
              "0                0   70172       1              1   13               0      1   \n",
              "1                1    5047       1              0   25               1      2   \n",
              "2                2  110028       0              1   26               1      2   \n",
              "3                3   24026       0              1   25               1      2   \n",
              "4                4  119299       1              1   61               1      2   \n",
              "...            ...     ...     ...            ...  ...             ...    ...   \n",
              "103899      103899   94171       0              0   23               1      0   \n",
              "103900      103900   73097       1              1   49               1      2   \n",
              "103901      103901   68825       1              0   30               1      2   \n",
              "103902      103902   54173       0              0   22               1      0   \n",
              "103903      103903   62567       1              1   27               1      2   \n",
              "\n",
              "        Flight Distance  Inflight wifi service  \\\n",
              "0                   460                      3   \n",
              "1                   235                      3   \n",
              "2                  1142                      2   \n",
              "3                   562                      2   \n",
              "4                   214                      3   \n",
              "...                 ...                    ...   \n",
              "103899              192                      2   \n",
              "103900             2347                      4   \n",
              "103901             1995                      1   \n",
              "103902             1000                      1   \n",
              "103903             1723                      1   \n",
              "\n",
              "        Departure/Arrival time convenient  ...  Inflight entertainment  \\\n",
              "0                                       4  ...                       5   \n",
              "1                                       2  ...                       1   \n",
              "2                                       2  ...                       5   \n",
              "3                                       5  ...                       2   \n",
              "4                                       3  ...                       3   \n",
              "...                                   ...  ...                     ...   \n",
              "103899                                  1  ...                       2   \n",
              "103900                                  4  ...                       5   \n",
              "103901                                  1  ...                       4   \n",
              "103902                                  1  ...                       1   \n",
              "103903                                  3  ...                       1   \n",
              "\n",
              "        On-board service  Leg room service  Baggage handling  Checkin service  \\\n",
              "0                      4                 3                 4                4   \n",
              "1                      1                 5                 3                1   \n",
              "2                      4                 3                 4                4   \n",
              "3                      2                 5                 3                1   \n",
              "4                      3                 4                 4                3   \n",
              "...                  ...               ...               ...              ...   \n",
              "103899                 3                 1                 4                2   \n",
              "103900                 5                 5                 5                5   \n",
              "103901                 3                 2                 4                5   \n",
              "103902                 4                 5                 1                5   \n",
              "103903                 1                 1                 4                4   \n",
              "\n",
              "        Inflight service  Cleanliness  Departure Delay in Minutes  \\\n",
              "0                      5            5                          25   \n",
              "1                      4            1                           1   \n",
              "2                      4            5                           0   \n",
              "3                      4            2                          11   \n",
              "4                      3            3                           0   \n",
              "...                  ...          ...                         ...   \n",
              "103899                 3            2                           3   \n",
              "103900                 5            4                           0   \n",
              "103901                 5            4                           7   \n",
              "103902                 4            1                           0   \n",
              "103903                 3            1                           0   \n",
              "\n",
              "        Arrival Delay in Minutes  target  \n",
              "0                           18.0       0  \n",
              "1                            6.0       0  \n",
              "2                            0.0       1  \n",
              "3                            9.0       0  \n",
              "4                            0.0       1  \n",
              "...                          ...     ...  \n",
              "103899                       0.0       0  \n",
              "103900                       0.0       1  \n",
              "103901                      14.0       0  \n",
              "103902                       0.0       0  \n",
              "103903                       0.0       0  \n",
              "\n",
              "[103904 rows x 25 columns]"
            ],
            "text/html": [
              "\n",
              "  <div id=\"df-ba9c41a8-651f-4e43-867f-ccfa2eb8cb82\">\n",
              "    <div class=\"colab-df-container\">\n",
              "      <div>\n",
              "<style scoped>\n",
              "    .dataframe tbody tr th:only-of-type {\n",
              "        vertical-align: middle;\n",
              "    }\n",
              "\n",
              "    .dataframe tbody tr th {\n",
              "        vertical-align: top;\n",
              "    }\n",
              "\n",
              "    .dataframe thead th {\n",
              "        text-align: right;\n",
              "    }\n",
              "</style>\n",
              "<table border=\"1\" class=\"dataframe\">\n",
              "  <thead>\n",
              "    <tr style=\"text-align: right;\">\n",
              "      <th></th>\n",
              "      <th>Unnamed: 0</th>\n",
              "      <th>id</th>\n",
              "      <th>Gender</th>\n",
              "      <th>Customer Type</th>\n",
              "      <th>Age</th>\n",
              "      <th>Type of Travel</th>\n",
              "      <th>Class</th>\n",
              "      <th>Flight Distance</th>\n",
              "      <th>Inflight wifi service</th>\n",
              "      <th>Departure/Arrival time convenient</th>\n",
              "      <th>...</th>\n",
              "      <th>Inflight entertainment</th>\n",
              "      <th>On-board service</th>\n",
              "      <th>Leg room service</th>\n",
              "      <th>Baggage handling</th>\n",
              "      <th>Checkin service</th>\n",
              "      <th>Inflight service</th>\n",
              "      <th>Cleanliness</th>\n",
              "      <th>Departure Delay in Minutes</th>\n",
              "      <th>Arrival Delay in Minutes</th>\n",
              "      <th>target</th>\n",
              "    </tr>\n",
              "  </thead>\n",
              "  <tbody>\n",
              "    <tr>\n",
              "      <th>0</th>\n",
              "      <td>0</td>\n",
              "      <td>70172</td>\n",
              "      <td>1</td>\n",
              "      <td>1</td>\n",
              "      <td>13</td>\n",
              "      <td>0</td>\n",
              "      <td>1</td>\n",
              "      <td>460</td>\n",
              "      <td>3</td>\n",
              "      <td>4</td>\n",
              "      <td>...</td>\n",
              "      <td>5</td>\n",
              "      <td>4</td>\n",
              "      <td>3</td>\n",
              "      <td>4</td>\n",
              "      <td>4</td>\n",
              "      <td>5</td>\n",
              "      <td>5</td>\n",
              "      <td>25</td>\n",
              "      <td>18.0</td>\n",
              "      <td>0</td>\n",
              "    </tr>\n",
              "    <tr>\n",
              "      <th>1</th>\n",
              "      <td>1</td>\n",
              "      <td>5047</td>\n",
              "      <td>1</td>\n",
              "      <td>0</td>\n",
              "      <td>25</td>\n",
              "      <td>1</td>\n",
              "      <td>2</td>\n",
              "      <td>235</td>\n",
              "      <td>3</td>\n",
              "      <td>2</td>\n",
              "      <td>...</td>\n",
              "      <td>1</td>\n",
              "      <td>1</td>\n",
              "      <td>5</td>\n",
              "      <td>3</td>\n",
              "      <td>1</td>\n",
              "      <td>4</td>\n",
              "      <td>1</td>\n",
              "      <td>1</td>\n",
              "      <td>6.0</td>\n",
              "      <td>0</td>\n",
              "    </tr>\n",
              "    <tr>\n",
              "      <th>2</th>\n",
              "      <td>2</td>\n",
              "      <td>110028</td>\n",
              "      <td>0</td>\n",
              "      <td>1</td>\n",
              "      <td>26</td>\n",
              "      <td>1</td>\n",
              "      <td>2</td>\n",
              "      <td>1142</td>\n",
              "      <td>2</td>\n",
              "      <td>2</td>\n",
              "      <td>...</td>\n",
              "      <td>5</td>\n",
              "      <td>4</td>\n",
              "      <td>3</td>\n",
              "      <td>4</td>\n",
              "      <td>4</td>\n",
              "      <td>4</td>\n",
              "      <td>5</td>\n",
              "      <td>0</td>\n",
              "      <td>0.0</td>\n",
              "      <td>1</td>\n",
              "    </tr>\n",
              "    <tr>\n",
              "      <th>3</th>\n",
              "      <td>3</td>\n",
              "      <td>24026</td>\n",
              "      <td>0</td>\n",
              "      <td>1</td>\n",
              "      <td>25</td>\n",
              "      <td>1</td>\n",
              "      <td>2</td>\n",
              "      <td>562</td>\n",
              "      <td>2</td>\n",
              "      <td>5</td>\n",
              "      <td>...</td>\n",
              "      <td>2</td>\n",
              "      <td>2</td>\n",
              "      <td>5</td>\n",
              "      <td>3</td>\n",
              "      <td>1</td>\n",
              "      <td>4</td>\n",
              "      <td>2</td>\n",
              "      <td>11</td>\n",
              "      <td>9.0</td>\n",
              "      <td>0</td>\n",
              "    </tr>\n",
              "    <tr>\n",
              "      <th>4</th>\n",
              "      <td>4</td>\n",
              "      <td>119299</td>\n",
              "      <td>1</td>\n",
              "      <td>1</td>\n",
              "      <td>61</td>\n",
              "      <td>1</td>\n",
              "      <td>2</td>\n",
              "      <td>214</td>\n",
              "      <td>3</td>\n",
              "      <td>3</td>\n",
              "      <td>...</td>\n",
              "      <td>3</td>\n",
              "      <td>3</td>\n",
              "      <td>4</td>\n",
              "      <td>4</td>\n",
              "      <td>3</td>\n",
              "      <td>3</td>\n",
              "      <td>3</td>\n",
              "      <td>0</td>\n",
              "      <td>0.0</td>\n",
              "      <td>1</td>\n",
              "    </tr>\n",
              "    <tr>\n",
              "      <th>...</th>\n",
              "      <td>...</td>\n",
              "      <td>...</td>\n",
              "      <td>...</td>\n",
              "      <td>...</td>\n",
              "      <td>...</td>\n",
              "      <td>...</td>\n",
              "      <td>...</td>\n",
              "      <td>...</td>\n",
              "      <td>...</td>\n",
              "      <td>...</td>\n",
              "      <td>...</td>\n",
              "      <td>...</td>\n",
              "      <td>...</td>\n",
              "      <td>...</td>\n",
              "      <td>...</td>\n",
              "      <td>...</td>\n",
              "      <td>...</td>\n",
              "      <td>...</td>\n",
              "      <td>...</td>\n",
              "      <td>...</td>\n",
              "      <td>...</td>\n",
              "    </tr>\n",
              "    <tr>\n",
              "      <th>103899</th>\n",
              "      <td>103899</td>\n",
              "      <td>94171</td>\n",
              "      <td>0</td>\n",
              "      <td>0</td>\n",
              "      <td>23</td>\n",
              "      <td>1</td>\n",
              "      <td>0</td>\n",
              "      <td>192</td>\n",
              "      <td>2</td>\n",
              "      <td>1</td>\n",
              "      <td>...</td>\n",
              "      <td>2</td>\n",
              "      <td>3</td>\n",
              "      <td>1</td>\n",
              "      <td>4</td>\n",
              "      <td>2</td>\n",
              "      <td>3</td>\n",
              "      <td>2</td>\n",
              "      <td>3</td>\n",
              "      <td>0.0</td>\n",
              "      <td>0</td>\n",
              "    </tr>\n",
              "    <tr>\n",
              "      <th>103900</th>\n",
              "      <td>103900</td>\n",
              "      <td>73097</td>\n",
              "      <td>1</td>\n",
              "      <td>1</td>\n",
              "      <td>49</td>\n",
              "      <td>1</td>\n",
              "      <td>2</td>\n",
              "      <td>2347</td>\n",
              "      <td>4</td>\n",
              "      <td>4</td>\n",
              "      <td>...</td>\n",
              "      <td>5</td>\n",
              "      <td>5</td>\n",
              "      <td>5</td>\n",
              "      <td>5</td>\n",
              "      <td>5</td>\n",
              "      <td>5</td>\n",
              "      <td>4</td>\n",
              "      <td>0</td>\n",
              "      <td>0.0</td>\n",
              "      <td>1</td>\n",
              "    </tr>\n",
              "    <tr>\n",
              "      <th>103901</th>\n",
              "      <td>103901</td>\n",
              "      <td>68825</td>\n",
              "      <td>1</td>\n",
              "      <td>0</td>\n",
              "      <td>30</td>\n",
              "      <td>1</td>\n",
              "      <td>2</td>\n",
              "      <td>1995</td>\n",
              "      <td>1</td>\n",
              "      <td>1</td>\n",
              "      <td>...</td>\n",
              "      <td>4</td>\n",
              "      <td>3</td>\n",
              "      <td>2</td>\n",
              "      <td>4</td>\n",
              "      <td>5</td>\n",
              "      <td>5</td>\n",
              "      <td>4</td>\n",
              "      <td>7</td>\n",
              "      <td>14.0</td>\n",
              "      <td>0</td>\n",
              "    </tr>\n",
              "    <tr>\n",
              "      <th>103902</th>\n",
              "      <td>103902</td>\n",
              "      <td>54173</td>\n",
              "      <td>0</td>\n",
              "      <td>0</td>\n",
              "      <td>22</td>\n",
              "      <td>1</td>\n",
              "      <td>0</td>\n",
              "      <td>1000</td>\n",
              "      <td>1</td>\n",
              "      <td>1</td>\n",
              "      <td>...</td>\n",
              "      <td>1</td>\n",
              "      <td>4</td>\n",
              "      <td>5</td>\n",
              "      <td>1</td>\n",
              "      <td>5</td>\n",
              "      <td>4</td>\n",
              "      <td>1</td>\n",
              "      <td>0</td>\n",
              "      <td>0.0</td>\n",
              "      <td>0</td>\n",
              "    </tr>\n",
              "    <tr>\n",
              "      <th>103903</th>\n",
              "      <td>103903</td>\n",
              "      <td>62567</td>\n",
              "      <td>1</td>\n",
              "      <td>1</td>\n",
              "      <td>27</td>\n",
              "      <td>1</td>\n",
              "      <td>2</td>\n",
              "      <td>1723</td>\n",
              "      <td>1</td>\n",
              "      <td>3</td>\n",
              "      <td>...</td>\n",
              "      <td>1</td>\n",
              "      <td>1</td>\n",
              "      <td>1</td>\n",
              "      <td>4</td>\n",
              "      <td>4</td>\n",
              "      <td>3</td>\n",
              "      <td>1</td>\n",
              "      <td>0</td>\n",
              "      <td>0.0</td>\n",
              "      <td>0</td>\n",
              "    </tr>\n",
              "  </tbody>\n",
              "</table>\n",
              "<p>103904 rows × 25 columns</p>\n",
              "</div>\n",
              "      <button class=\"colab-df-convert\" onclick=\"convertToInteractive('df-ba9c41a8-651f-4e43-867f-ccfa2eb8cb82')\"\n",
              "              title=\"Convert this dataframe to an interactive table.\"\n",
              "              style=\"display:none;\">\n",
              "        \n",
              "  <svg xmlns=\"http://www.w3.org/2000/svg\" height=\"24px\"viewBox=\"0 0 24 24\"\n",
              "       width=\"24px\">\n",
              "    <path d=\"M0 0h24v24H0V0z\" fill=\"none\"/>\n",
              "    <path d=\"M18.56 5.44l.94 2.06.94-2.06 2.06-.94-2.06-.94-.94-2.06-.94 2.06-2.06.94zm-11 1L8.5 8.5l.94-2.06 2.06-.94-2.06-.94L8.5 2.5l-.94 2.06-2.06.94zm10 10l.94 2.06.94-2.06 2.06-.94-2.06-.94-.94-2.06-.94 2.06-2.06.94z\"/><path d=\"M17.41 7.96l-1.37-1.37c-.4-.4-.92-.59-1.43-.59-.52 0-1.04.2-1.43.59L10.3 9.45l-7.72 7.72c-.78.78-.78 2.05 0 2.83L4 21.41c.39.39.9.59 1.41.59.51 0 1.02-.2 1.41-.59l7.78-7.78 2.81-2.81c.8-.78.8-2.07 0-2.86zM5.41 20L4 18.59l7.72-7.72 1.47 1.35L5.41 20z\"/>\n",
              "  </svg>\n",
              "      </button>\n",
              "      \n",
              "  <style>\n",
              "    .colab-df-container {\n",
              "      display:flex;\n",
              "      flex-wrap:wrap;\n",
              "      gap: 12px;\n",
              "    }\n",
              "\n",
              "    .colab-df-convert {\n",
              "      background-color: #E8F0FE;\n",
              "      border: none;\n",
              "      border-radius: 50%;\n",
              "      cursor: pointer;\n",
              "      display: none;\n",
              "      fill: #1967D2;\n",
              "      height: 32px;\n",
              "      padding: 0 0 0 0;\n",
              "      width: 32px;\n",
              "    }\n",
              "\n",
              "    .colab-df-convert:hover {\n",
              "      background-color: #E2EBFA;\n",
              "      box-shadow: 0px 1px 2px rgba(60, 64, 67, 0.3), 0px 1px 3px 1px rgba(60, 64, 67, 0.15);\n",
              "      fill: #174EA6;\n",
              "    }\n",
              "\n",
              "    [theme=dark] .colab-df-convert {\n",
              "      background-color: #3B4455;\n",
              "      fill: #D2E3FC;\n",
              "    }\n",
              "\n",
              "    [theme=dark] .colab-df-convert:hover {\n",
              "      background-color: #434B5C;\n",
              "      box-shadow: 0px 1px 3px 1px rgba(0, 0, 0, 0.15);\n",
              "      filter: drop-shadow(0px 1px 2px rgba(0, 0, 0, 0.3));\n",
              "      fill: #FFFFFF;\n",
              "    }\n",
              "  </style>\n",
              "\n",
              "      <script>\n",
              "        const buttonEl =\n",
              "          document.querySelector('#df-ba9c41a8-651f-4e43-867f-ccfa2eb8cb82 button.colab-df-convert');\n",
              "        buttonEl.style.display =\n",
              "          google.colab.kernel.accessAllowed ? 'block' : 'none';\n",
              "\n",
              "        async function convertToInteractive(key) {\n",
              "          const element = document.querySelector('#df-ba9c41a8-651f-4e43-867f-ccfa2eb8cb82');\n",
              "          const dataTable =\n",
              "            await google.colab.kernel.invokeFunction('convertToInteractive',\n",
              "                                                     [key], {});\n",
              "          if (!dataTable) return;\n",
              "\n",
              "          const docLinkHtml = 'Like what you see? Visit the ' +\n",
              "            '<a target=\"_blank\" href=https://colab.research.google.com/notebooks/data_table.ipynb>data table notebook</a>'\n",
              "            + ' to learn more about interactive tables.';\n",
              "          element.innerHTML = '';\n",
              "          dataTable['output_type'] = 'display_data';\n",
              "          await google.colab.output.renderOutput(dataTable, element);\n",
              "          const docLink = document.createElement('div');\n",
              "          docLink.innerHTML = docLinkHtml;\n",
              "          element.appendChild(docLink);\n",
              "        }\n",
              "      </script>\n",
              "    </div>\n",
              "  </div>\n",
              "  "
            ]
          },
          "metadata": {},
          "execution_count": 152
        }
      ]
    },
    {
      "cell_type": "markdown",
      "source": [
        "## B. Vector Assembly \n",
        "\n",
        "Pada proses ini dilakukan pengubahan DataFrame Pandas menjadi Spark Dataframe diikuti dengan proses vector assembly."
      ],
      "metadata": {
        "id": "47e00y3JEAu7"
      }
    },
    {
      "cell_type": "code",
      "source": [
        "from pyspark.sql import SparkSession\n",
        "\n",
        "spark = SparkSession.builder.getOrCreate()\n",
        "\n",
        "dfml = spark.createDataFrame(pdf)\n",
        "\n",
        "dfml.show()"
      ],
      "metadata": {
        "id": "-9bfaLIEPlZg",
        "colab": {
          "base_uri": "https://localhost:8080/"
        },
        "outputId": "0a475cff-4c28-42e7-c0ad-edf5cb53fdf2"
      },
      "execution_count": null,
      "outputs": [
        {
          "output_type": "stream",
          "name": "stdout",
          "text": [
            "+----------+------+------+-------------+---+--------------+-----+---------------+---------------------+---------------------------------+----------------------+-------------+--------------+---------------+------------+----------------------+----------------+----------------+----------------+---------------+----------------+-----------+--------------------------+------------------------+------+\n",
            "|Unnamed: 0|    id|Gender|Customer Type|Age|Type of Travel|Class|Flight Distance|Inflight wifi service|Departure/Arrival time convenient|Ease of Online booking|Gate location|Food and drink|Online boarding|Seat comfort|Inflight entertainment|On-board service|Leg room service|Baggage handling|Checkin service|Inflight service|Cleanliness|Departure Delay in Minutes|Arrival Delay in Minutes|target|\n",
            "+----------+------+------+-------------+---+--------------+-----+---------------+---------------------+---------------------------------+----------------------+-------------+--------------+---------------+------------+----------------------+----------------+----------------+----------------+---------------+----------------+-----------+--------------------------+------------------------+------+\n",
            "|         0| 70172|     1|            1| 13|             0|    1|            460|                    3|                                4|                     3|            1|             5|              3|           5|                     5|               4|               3|               4|              4|               5|          5|                        25|                    18.0|     0|\n",
            "|         1|  5047|     1|            0| 25|             1|    2|            235|                    3|                                2|                     3|            3|             1|              3|           1|                     1|               1|               5|               3|              1|               4|          1|                         1|                     6.0|     0|\n",
            "|         2|110028|     0|            1| 26|             1|    2|           1142|                    2|                                2|                     2|            2|             5|              5|           5|                     5|               4|               3|               4|              4|               4|          5|                         0|                     0.0|     1|\n",
            "|         3| 24026|     0|            1| 25|             1|    2|            562|                    2|                                5|                     5|            5|             2|              2|           2|                     2|               2|               5|               3|              1|               4|          2|                        11|                     9.0|     0|\n",
            "|         4|119299|     1|            1| 61|             1|    2|            214|                    3|                                3|                     3|            3|             4|              5|           5|                     3|               3|               4|               4|              3|               3|          3|                         0|                     0.0|     1|\n",
            "|         5|111157|     0|            1| 26|             0|    0|           1180|                    3|                                4|                     2|            1|             1|              2|           1|                     1|               3|               4|               4|              4|               4|          1|                         0|                     0.0|     0|\n",
            "|         6| 82113|     1|            1| 47|             0|    0|           1276|                    2|                                4|                     2|            3|             2|              2|           2|                     2|               3|               3|               4|              3|               5|          2|                         9|                    23.0|     0|\n",
            "|         7| 96462|     0|            1| 52|             1|    2|           2035|                    4|                                3|                     4|            4|             5|              5|           5|                     5|               5|               5|               5|              4|               5|          4|                         4|                     0.0|     1|\n",
            "|         8| 79485|     0|            1| 41|             1|    2|            853|                    1|                                2|                     2|            2|             4|              3|           3|                     1|               1|               2|               1|              4|               1|          2|                         0|                     0.0|     0|\n",
            "|         9| 65725|     1|            0| 20|             1|    0|           1061|                    3|                                3|                     3|            4|             2|              3|           3|                     2|               2|               3|               4|              4|               3|          2|                         0|                     0.0|     0|\n",
            "|        10| 34991|     0|            0| 24|             1|    0|           1182|                    4|                                5|                     5|            4|             2|              5|           2|                     2|               3|               3|               5|              3|               5|          2|                         0|                     0.0|     0|\n",
            "|        11| 51412|     0|            1| 12|             0|    1|            308|                    2|                                4|                     2|            2|             1|              2|           1|                     1|               1|               2|               5|              5|               5|          1|                         0|                     0.0|     0|\n",
            "|        12| 98628|     1|            1| 53|             1|    0|            834|                    1|                                4|                     4|            4|             1|              1|           1|                     1|               1|               1|               3|              4|               4|          1|                        28|                     8.0|     0|\n",
            "|        13| 83502|     1|            1| 33|             0|    0|            946|                    4|                                2|                     4|            3|             4|              4|           4|                     4|               4|               5|               2|              2|               2|          4|                         0|                     0.0|     1|\n",
            "|        14| 95789|     0|            1| 26|             0|    0|            453|                    3|                                2|                     3|            2|             2|              3|           2|                     2|               4|               3|               2|              2|               1|          2|                        43|                    35.0|     0|\n",
            "|        15|100580|     1|            0| 13|             1|    0|            486|                    2|                                1|                     2|            3|             4|              2|           1|                     4|               2|               1|               4|              1|               3|          4|                         1|                     0.0|     0|\n",
            "|        16| 71142|     0|            1| 26|             1|    2|           2123|                    3|                                3|                     3|            3|             4|              4|           4|                     4|               5|               3|               4|              5|               4|          4|                        49|                    51.0|     1|\n",
            "|        17|127461|     1|            1| 41|             1|    2|           2075|                    4|                                4|                     2|            4|             4|              4|           4|                     5|               5|               5|               5|              3|               5|          5|                         0|                    10.0|     1|\n",
            "|        18| 70354|     0|            1| 45|             1|    2|           2486|                    4|                                4|                     4|            4|             3|              4|           5|                     5|               5|               5|               5|              3|               5|          4|                         7|                     5.0|     1|\n",
            "|        19| 66246|     1|            1| 38|             0|    0|            460|                    2|                                3|                     3|            2|             5|              3|           5|                     5|               1|               2|               4|              3|               2|          5|                        17|                    18.0|     0|\n",
            "+----------+------+------+-------------+---+--------------+-----+---------------+---------------------+---------------------------------+----------------------+-------------+--------------+---------------+------------+----------------------+----------------+----------------+----------------+---------------+----------------+-----------+--------------------------+------------------------+------+\n",
            "only showing top 20 rows\n",
            "\n"
          ]
        }
      ]
    },
    {
      "cell_type": "markdown",
      "source": [
        "Setelah Spark Dataframe berhasil diimplementasikan kemudian dilakukan proses vector assembly yaitu menyatukan semua data pada semua kolom menjadi satu kolom bernama kolom features."
      ],
      "metadata": {
        "id": "4g5wxta3G4LK"
      }
    },
    {
      "cell_type": "code",
      "source": [
        "from pyspark.ml.feature import VectorAssembler\n",
        "\n",
        "va = VectorAssembler(inputCols=['Gender', 'Customer Type', 'Age', 'Type of Travel', 'Class', 'Flight Distance', 'Inflight wifi service', 'Departure/Arrival time convenient', 'Ease of Online booking', 'Gate location', 'Food and drink', 'Online boarding', 'Seat comfort', 'Inflight entertainment', 'On-board service', 'Leg room service', 'Baggage handling', 'Checkin service', 'Inflight service', 'Cleanliness', 'Departure Delay in Minutes', 'Arrival Delay in Minutes'], outputCol='features')\n",
        "\n",
        "df_assembled = va.transform(dfml)\n",
        "df_assembled.show()"
      ],
      "metadata": {
        "id": "Nn6cZ1ApEB-W",
        "colab": {
          "base_uri": "https://localhost:8080/"
        },
        "outputId": "e4ea0ede-173c-4fb0-8aef-23eafb8e3a4a"
      },
      "execution_count": null,
      "outputs": [
        {
          "output_type": "stream",
          "name": "stdout",
          "text": [
            "+----------+------+------+-------------+---+--------------+-----+---------------+---------------------+---------------------------------+----------------------+-------------+--------------+---------------+------------+----------------------+----------------+----------------+----------------+---------------+----------------+-----------+--------------------------+------------------------+------+--------------------+\n",
            "|Unnamed: 0|    id|Gender|Customer Type|Age|Type of Travel|Class|Flight Distance|Inflight wifi service|Departure/Arrival time convenient|Ease of Online booking|Gate location|Food and drink|Online boarding|Seat comfort|Inflight entertainment|On-board service|Leg room service|Baggage handling|Checkin service|Inflight service|Cleanliness|Departure Delay in Minutes|Arrival Delay in Minutes|target|            features|\n",
            "+----------+------+------+-------------+---+--------------+-----+---------------+---------------------+---------------------------------+----------------------+-------------+--------------+---------------+------------+----------------------+----------------+----------------+----------------+---------------+----------------+-----------+--------------------------+------------------------+------+--------------------+\n",
            "|         0| 70172|     1|            1| 13|             0|    1|            460|                    3|                                4|                     3|            1|             5|              3|           5|                     5|               4|               3|               4|              4|               5|          5|                        25|                    18.0|     0|[1.0,1.0,13.0,0.0...|\n",
            "|         1|  5047|     1|            0| 25|             1|    2|            235|                    3|                                2|                     3|            3|             1|              3|           1|                     1|               1|               5|               3|              1|               4|          1|                         1|                     6.0|     0|[1.0,0.0,25.0,1.0...|\n",
            "|         2|110028|     0|            1| 26|             1|    2|           1142|                    2|                                2|                     2|            2|             5|              5|           5|                     5|               4|               3|               4|              4|               4|          5|                         0|                     0.0|     1|[0.0,1.0,26.0,1.0...|\n",
            "|         3| 24026|     0|            1| 25|             1|    2|            562|                    2|                                5|                     5|            5|             2|              2|           2|                     2|               2|               5|               3|              1|               4|          2|                        11|                     9.0|     0|[0.0,1.0,25.0,1.0...|\n",
            "|         4|119299|     1|            1| 61|             1|    2|            214|                    3|                                3|                     3|            3|             4|              5|           5|                     3|               3|               4|               4|              3|               3|          3|                         0|                     0.0|     1|[1.0,1.0,61.0,1.0...|\n",
            "|         5|111157|     0|            1| 26|             0|    0|           1180|                    3|                                4|                     2|            1|             1|              2|           1|                     1|               3|               4|               4|              4|               4|          1|                         0|                     0.0|     0|[0.0,1.0,26.0,0.0...|\n",
            "|         6| 82113|     1|            1| 47|             0|    0|           1276|                    2|                                4|                     2|            3|             2|              2|           2|                     2|               3|               3|               4|              3|               5|          2|                         9|                    23.0|     0|[1.0,1.0,47.0,0.0...|\n",
            "|         7| 96462|     0|            1| 52|             1|    2|           2035|                    4|                                3|                     4|            4|             5|              5|           5|                     5|               5|               5|               5|              4|               5|          4|                         4|                     0.0|     1|[0.0,1.0,52.0,1.0...|\n",
            "|         8| 79485|     0|            1| 41|             1|    2|            853|                    1|                                2|                     2|            2|             4|              3|           3|                     1|               1|               2|               1|              4|               1|          2|                         0|                     0.0|     0|[0.0,1.0,41.0,1.0...|\n",
            "|         9| 65725|     1|            0| 20|             1|    0|           1061|                    3|                                3|                     3|            4|             2|              3|           3|                     2|               2|               3|               4|              4|               3|          2|                         0|                     0.0|     0|[1.0,0.0,20.0,1.0...|\n",
            "|        10| 34991|     0|            0| 24|             1|    0|           1182|                    4|                                5|                     5|            4|             2|              5|           2|                     2|               3|               3|               5|              3|               5|          2|                         0|                     0.0|     0|[0.0,0.0,24.0,1.0...|\n",
            "|        11| 51412|     0|            1| 12|             0|    1|            308|                    2|                                4|                     2|            2|             1|              2|           1|                     1|               1|               2|               5|              5|               5|          1|                         0|                     0.0|     0|[0.0,1.0,12.0,0.0...|\n",
            "|        12| 98628|     1|            1| 53|             1|    0|            834|                    1|                                4|                     4|            4|             1|              1|           1|                     1|               1|               1|               3|              4|               4|          1|                        28|                     8.0|     0|[1.0,1.0,53.0,1.0...|\n",
            "|        13| 83502|     1|            1| 33|             0|    0|            946|                    4|                                2|                     4|            3|             4|              4|           4|                     4|               4|               5|               2|              2|               2|          4|                         0|                     0.0|     1|[1.0,1.0,33.0,0.0...|\n",
            "|        14| 95789|     0|            1| 26|             0|    0|            453|                    3|                                2|                     3|            2|             2|              3|           2|                     2|               4|               3|               2|              2|               1|          2|                        43|                    35.0|     0|[0.0,1.0,26.0,0.0...|\n",
            "|        15|100580|     1|            0| 13|             1|    0|            486|                    2|                                1|                     2|            3|             4|              2|           1|                     4|               2|               1|               4|              1|               3|          4|                         1|                     0.0|     0|[1.0,0.0,13.0,1.0...|\n",
            "|        16| 71142|     0|            1| 26|             1|    2|           2123|                    3|                                3|                     3|            3|             4|              4|           4|                     4|               5|               3|               4|              5|               4|          4|                        49|                    51.0|     1|[0.0,1.0,26.0,1.0...|\n",
            "|        17|127461|     1|            1| 41|             1|    2|           2075|                    4|                                4|                     2|            4|             4|              4|           4|                     5|               5|               5|               5|              3|               5|          5|                         0|                    10.0|     1|[1.0,1.0,41.0,1.0...|\n",
            "|        18| 70354|     0|            1| 45|             1|    2|           2486|                    4|                                4|                     4|            4|             3|              4|           5|                     5|               5|               5|               5|              3|               5|          4|                         7|                     5.0|     1|[0.0,1.0,45.0,1.0...|\n",
            "|        19| 66246|     1|            1| 38|             0|    0|            460|                    2|                                3|                     3|            2|             5|              3|           5|                     5|               1|               2|               4|              3|               2|          5|                        17|                    18.0|     0|[1.0,1.0,38.0,0.0...|\n",
            "+----------+------+------+-------------+---+--------------+-----+---------------+---------------------+---------------------------------+----------------------+-------------+--------------+---------------+------------+----------------------+----------------+----------------+----------------+---------------+----------------+-----------+--------------------------+------------------------+------+--------------------+\n",
            "only showing top 20 rows\n",
            "\n"
          ]
        }
      ]
    },
    {
      "cell_type": "markdown",
      "source": [
        "Setelah mendapatkan kolom features, kolom yang akan diproses pada tahap selanjutnya yaitu kolom target dengan kolom features. Untuk melakukan prediksi kolom target dilakukan pembagian data latih (training) dengan data uji (testing) dengan menggunakan metode split data"
      ],
      "metadata": {
        "id": "171_1V-RHjq4"
      }
    },
    {
      "cell_type": "markdown",
      "source": [
        "## C. Split Data"
      ],
      "metadata": {
        "id": "wwWE8RkvTFLL"
      }
    },
    {
      "cell_type": "code",
      "source": [
        "train, test = df_assembled.randomSplit([0.8,0.2],seed = 100)"
      ],
      "metadata": {
        "id": "y03MLm0RTKWB"
      },
      "execution_count": null,
      "outputs": []
    },
    {
      "cell_type": "markdown",
      "source": [
        "Pada proses pembagian data ini data training yang digunakan sebanyak 80% dan data testing yang digunakan sebanyak 20% dengan random seed sebanyak 100."
      ],
      "metadata": {
        "id": "CcIPHgpGIH6o"
      }
    },
    {
      "cell_type": "markdown",
      "source": [
        "Setelah berhasil pembagian data training dan data uji dilakukan proses machine learning pada data training."
      ],
      "metadata": {
        "id": "lS3xEt-FIZv4"
      }
    },
    {
      "cell_type": "markdown",
      "source": [
        "## D. Training"
      ],
      "metadata": {
        "id": "Def9GduoTcPO"
      }
    },
    {
      "cell_type": "markdown",
      "source": [
        "Proses training ini menggunakan metode logistic regression untuk melakukan klasifikasi pada data training dengan memberikan batasan iterasi sebanyak 5."
      ],
      "metadata": {
        "id": "c7z4I53TIoqO"
      }
    },
    {
      "cell_type": "code",
      "source": [
        "from pyspark.ml.classification import LogisticRegression\n",
        "\n",
        "logistic = LogisticRegression(featuresCol='features',labelCol='target', maxIter=5)"
      ],
      "metadata": {
        "id": "vODCMKIbTeDJ"
      },
      "execution_count": null,
      "outputs": []
    },
    {
      "cell_type": "markdown",
      "source": [
        "Kemudian dilakukan fitting pada data train"
      ],
      "metadata": {
        "id": "iIhfLLBRKIQR"
      }
    },
    {
      "cell_type": "code",
      "source": [
        "modellg = logistic.fit(train)"
      ],
      "metadata": {
        "id": "X-HPpCfgu1Kw"
      },
      "execution_count": null,
      "outputs": []
    },
    {
      "cell_type": "markdown",
      "source": [
        "Setelah proses data training selesai dilakukan pengecekan hasil akurasi pada training data."
      ],
      "metadata": {
        "id": "BYD1QlUMKNLJ"
      }
    },
    {
      "cell_type": "code",
      "source": [
        "modellg.summary.accuracy"
      ],
      "metadata": {
        "id": "Z_rtTHq6Z69T",
        "colab": {
          "base_uri": "https://localhost:8080/"
        },
        "outputId": "35fe7769-cb0f-45af-faa4-02209b70a662"
      },
      "execution_count": null,
      "outputs": [
        {
          "output_type": "execute_result",
          "data": {
            "text/plain": [
              "0.874416365824308"
            ]
          },
          "metadata": {},
          "execution_count": 159
        }
      ]
    },
    {
      "cell_type": "markdown",
      "source": [
        "Hasil akurasi yang didapat yaitu 0.874416365824308 atau dapat disimpulkan bahwa sebanyak sekitar 87% prediksi tersebut benar.\n",
        "\n"
      ],
      "metadata": {
        "id": "9prtzi8UKdKC"
      }
    },
    {
      "cell_type": "markdown",
      "source": [
        "## E. Testing\n",
        "\n",
        "Proses ini untuk melihat model pada data uji yang sudah dibuat."
      ],
      "metadata": {
        "id": "KgTuJ9RTLaxQ"
      }
    },
    {
      "cell_type": "code",
      "source": [
        "pred = modellg.transform(test)\n",
        "pred.show()"
      ],
      "metadata": {
        "id": "cDJsZyS7Z-Qs",
        "colab": {
          "base_uri": "https://localhost:8080/"
        },
        "outputId": "ff04eb8a-15cf-4ec9-aeff-bbf0d0b7a2d9"
      },
      "execution_count": null,
      "outputs": [
        {
          "output_type": "stream",
          "name": "stdout",
          "text": [
            "+----------+------+------+-------------+---+--------------+-----+---------------+---------------------+---------------------------------+----------------------+-------------+--------------+---------------+------------+----------------------+----------------+----------------+----------------+---------------+----------------+-----------+--------------------------+------------------------+------+--------------------+--------------------+--------------------+----------+\n",
            "|Unnamed: 0|    id|Gender|Customer Type|Age|Type of Travel|Class|Flight Distance|Inflight wifi service|Departure/Arrival time convenient|Ease of Online booking|Gate location|Food and drink|Online boarding|Seat comfort|Inflight entertainment|On-board service|Leg room service|Baggage handling|Checkin service|Inflight service|Cleanliness|Departure Delay in Minutes|Arrival Delay in Minutes|target|            features|       rawPrediction|         probability|prediction|\n",
            "+----------+------+------+-------------+---+--------------+-----+---------------+---------------------+---------------------------------+----------------------+-------------+--------------+---------------+------------+----------------------+----------------+----------------+----------------+---------------+----------------+-----------+--------------------------+------------------------+------+--------------------+--------------------+--------------------+----------+\n",
            "|         3| 24026|     0|            1| 25|             1|    2|            562|                    2|                                5|                     5|            5|             2|              2|           2|                     2|               2|               5|               3|              1|               4|          2|                        11|                     9.0|     0|[0.0,1.0,25.0,1.0...|[1.67067912006007...|[0.84166634448565...|       0.0|\n",
            "|        10| 34991|     0|            0| 24|             1|    0|           1182|                    4|                                5|                     5|            4|             2|              5|           2|                     2|               3|               3|               5|              3|               5|          2|                         0|                     0.0|     0|[0.0,0.0,24.0,1.0...|[1.17687891677991...|[0.76438616071443...|       0.0|\n",
            "|        14| 95789|     0|            1| 26|             0|    0|            453|                    3|                                2|                     3|            2|             2|              3|           2|                     2|               4|               3|               2|              2|               1|          2|                        43|                    35.0|     0|[0.0,1.0,26.0,0.0...|[3.70266032118803...|[0.97593553636714...|       0.0|\n",
            "|        20| 39076|     1|            1|  9|             1|    0|           1174|                    2|                                4|                     2|            4|             2|              2|           1|                     2|               1|               5|               3|              4|               3|          2|                         0|                     4.0|     0|[1.0,1.0,9.0,1.0,...|[1.27167540361584...|[0.78102941448010...|       0.0|\n",
            "|        25|102956|     1|            1| 57|             0|    0|            719|                    4|                                4|                     4|            1|             5|              4|           5|                     5|               3|               2|               4|              4|               5|          5|                        27|                    28.0|     0|[1.0,1.0,57.0,0.0...|[1.46421576638241...|[0.81217661858528...|       0.0|\n",
            "|        29| 75460|     1|            1| 22|             0|    0|           2342|                    3|                                2|                     3|            3|             3|              3|           1|                     3|               2|               4|               3|              4|               2|          3|                        19|                     0.0|     0|[1.0,1.0,22.0,0.0...|[2.65876261798778...|[0.93454902012936...|       0.0|\n",
            "|        34| 58779|     1|            0| 37|             1|    2|           1182|                    3|                                3|                     3|            4|             1|              3|           1|                     1|               4|               1|               3|              1|               4|          1|                         9|                     0.0|     0|[1.0,0.0,37.0,1.0...|[2.99895523942643...|[0.95252690570616...|       0.0|\n",
            "|        35| 79659|     0|            1| 40|             1|    0|            349|                    1|                                4|                     4|            4|             1|              1|           1|                     1|               3|               5|               3|              3|               3|          1|                         0|                     1.0|     0|[0.0,1.0,40.0,1.0...|[2.8473831057201,...|[0.94518325444889...|       0.0|\n",
            "|        37| 48014|     1|            1| 40|             0|    1|            550|                    4|                                3|                     4|            2|             2|              4|           2|                     2|               5|               1|               4|              3|               4|          2|                        23|                    20.0|     0|[1.0,1.0,40.0,0.0...|[1.98726053508752...|[0.87945301380004...|       0.0|\n",
            "|        38| 96517|     0|            1| 47|             0|    0|            302|                    4|                                4|                     4|            3|             2|              4|           5|                     4|               4|               4|               4|              4|               4|          4|                        23|                    31.0|     1|[0.0,1.0,47.0,0.0...|[0.96599777335807...|[0.72432105080761...|       0.0|\n",
            "|        40| 64138|     1|            1| 39|             1|    2|           1734|                    4|                                4|                     4|            4|             3|              5|           5|                     4|               4|               4|               4|              4|               4|          3|                         0|                     0.0|     1|[1.0,1.0,39.0,1.0...|[-3.2693903642708...|[0.03663633875249...|       1.0|\n",
            "|        41| 60373|     0|            0| 25|             1|    2|           1452|                    3|                                5|                     3|            4|             3|              3|           3|                     3|               4|               4|               5|              5|               5|          3|                         9|                    23.0|     0|[0.0,0.0,25.0,1.0...|[0.21296481747017...|[0.55304088764353...|       0.0|\n",
            "|        52|  1050|     0|            1| 69|             1|    0|            309|                    5|                                5|                     5|            5|             1|              2|           3|                     5|               5|               5|               5|              4|               5|          2|                         0|                     0.0|     1|[0.0,1.0,69.0,1.0...|[-0.8896374576464...|[0.29118464911442...|       1.0|\n",
            "|        58|114501|     0|            0| 38|             1|    2|            308|                    3|                                3|                     3|            3|             4|              3|           4|                     4|               1|               1|               4|              2|               3|          4|                        39|                    26.0|     0|[0.0,0.0,38.0,1.0...|[2.53049215857664...|[0.92625197943431...|       0.0|\n",
            "|        59|114813|     1|            0| 23|             1|    0|            446|                    2|                                4|                     2|            1|             4|              2|           4|                     4|               4|               2|               4|              5|               5|          4|                         4|                     0.0|     0|[1.0,0.0,23.0,1.0...|[1.89545162206580...|[0.86937587239381...|       0.0|\n",
            "|        65| 78610|     1|            1| 25|             1|    2|           1426|                    3|                                3|                     3|            3|             4|              5|           4|                     4|               5|               4|               4|              4|               4|          4|                         4|                     0.0|     1|[1.0,1.0,25.0,1.0...|[-3.6238157584085...|[0.02598731587102...|       1.0|\n",
            "|        72|112142|     1|            0| 39|             1|    2|            895|                    2|                                2|                     2|            4|             5|              2|           5|                     5|               5|               4|               4|              5|               5|          5|                         0|                     2.0|     0|[1.0,0.0,39.0,1.0...|[-0.3714828319297...|[0.40818276574703...|       1.0|\n",
            "|        78| 32564|     0|            0| 50|             1|    0|            216|                    4|                                0|                     4|            4|             4|              4|           4|                     4|               5|               2|               1|              4|               4|          4|                         0|                     0.0|     0|[0.0,0.0,50.0,1.0...|[0.18526559047258...|[0.54618437296754...|       0.0|\n",
            "|        85| 91330|     1|            1| 31|             1|    1|            404|                    4|                                4|                     4|            4|             4|              4|           4|                     4|               1|               2|               2|              4|               2|          4|                        17|                     3.0|     1|[1.0,1.0,31.0,1.0...|[-0.6159947800014...|[0.35069292336022...|       1.0|\n",
            "|        97|114534|     1|            1| 19|             0|    2|            342|                    3|                                1|                     3|            2|             3|              3|           3|                     3|               2|               1|               3|              1|               3|          3|                         0|                     0.0|     0|[1.0,1.0,19.0,0.0...|[3.14513636858564...|[0.95871665286420...|       0.0|\n",
            "+----------+------+------+-------------+---+--------------+-----+---------------+---------------------+---------------------------------+----------------------+-------------+--------------+---------------+------------+----------------------+----------------+----------------+----------------+---------------+----------------+-----------+--------------------------+------------------------+------+--------------------+--------------------+--------------------+----------+\n",
            "only showing top 20 rows\n",
            "\n"
          ]
        }
      ]
    },
    {
      "cell_type": "markdown",
      "source": [
        "Dari hasil testing tersebut dapat diliat hasil prediksi melalui kolom prediction."
      ],
      "metadata": {
        "id": "iQ9ADxBeL6Yz"
      }
    },
    {
      "cell_type": "markdown",
      "source": [
        "## F. Evaluasi Data"
      ],
      "metadata": {
        "id": "MQ6RUmTDMFdY"
      }
    },
    {
      "cell_type": "markdown",
      "source": [
        "Proses evaluasi ini menggunakan metode klasifikasi multiclass classification untuk memprediksi 3 class yang berbeda pada kolom target."
      ],
      "metadata": {
        "id": "iLCqV-BEMLJF"
      }
    },
    {
      "cell_type": "code",
      "source": [
        "from pyspark.ml.evaluation import MulticlassClassificationEvaluator\n",
        "\n",
        "ev = MulticlassClassificationEvaluator()\n",
        "ev.setPredictionCol('prediction')\n",
        "ev.setLabelCol('target')\n",
        "ev.evaluate(pred)"
      ],
      "metadata": {
        "id": "UpdLEDo7aBsF",
        "colab": {
          "base_uri": "https://localhost:8080/"
        },
        "outputId": "a31210f1-32d0-45e2-da09-adfa47db7008"
      },
      "execution_count": null,
      "outputs": [
        {
          "output_type": "execute_result",
          "data": {
            "text/plain": [
              "0.868955863682469"
            ]
          },
          "metadata": {},
          "execution_count": 161
        }
      ]
    },
    {
      "cell_type": "markdown",
      "source": [
        "Berdasarkan hasil evaluasi tersebut nilai akurasi pada proses testing yang didapat yaitu 86%.\n",
        "\n",
        "* Maka dapat disimpulkan bahwa selisih antara akurasi yang didapat pada proses training dan proses testing yaitu sebanyak 0.01%."
      ],
      "metadata": {
        "id": "SfQJ6O-XMKea"
      }
    },
    {
      "cell_type": "markdown",
      "source": [
        "---\n",
        "# 4. Link Video Singkat Presentasi Project : \n",
        "https://youtu.be/Yw3DUstiDsA\n",
        "---\n"
      ],
      "metadata": {
        "id": "gAQA0tuMPKCT"
      }
    }
  ]
}